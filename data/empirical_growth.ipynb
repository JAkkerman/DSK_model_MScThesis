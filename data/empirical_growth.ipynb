{
 "cells": [
  {
   "cell_type": "code",
   "execution_count": 1,
   "metadata": {},
   "outputs": [],
   "source": [
    "import numpy as np\n",
    "import scipy.stats as stats\n",
    "import pandas as pd\n",
    "import matplotlib.pyplot as plt\n",
    "import statsmodels.api as sm"
   ]
  },
  {
   "cell_type": "code",
   "execution_count": 2,
   "metadata": {},
   "outputs": [
    {
     "data": {
      "text/html": [
       "<div>\n",
       "<style scoped>\n",
       "    .dataframe tbody tr th:only-of-type {\n",
       "        vertical-align: middle;\n",
       "    }\n",
       "\n",
       "    .dataframe tbody tr th {\n",
       "        vertical-align: top;\n",
       "    }\n",
       "\n",
       "    .dataframe thead th {\n",
       "        text-align: right;\n",
       "    }\n",
       "</style>\n",
       "<table border=\"1\" class=\"dataframe\">\n",
       "  <thead>\n",
       "    <tr style=\"text-align: right;\">\n",
       "      <th></th>\n",
       "      <th>Soort mutaties</th>\n",
       "      <th>Perioden</th>\n",
       "      <th>Opbouw bbp vanuit de finale bestedingen/Beschikbaar voor finale bestedingen/Bruto binnenlands product (%)</th>\n",
       "    </tr>\n",
       "  </thead>\n",
       "  <tbody>\n",
       "    <tr>\n",
       "      <th>0</th>\n",
       "      <td>Volume, t.o.v. voorgaande periode</td>\n",
       "      <td>1996 3e kwartaal</td>\n",
       "      <td>1.4</td>\n",
       "    </tr>\n",
       "    <tr>\n",
       "      <th>1</th>\n",
       "      <td>Volume, t.o.v. voorgaande periode</td>\n",
       "      <td>1996 4e kwartaal</td>\n",
       "      <td>0.7</td>\n",
       "    </tr>\n",
       "    <tr>\n",
       "      <th>2</th>\n",
       "      <td>Volume, t.o.v. voorgaande periode</td>\n",
       "      <td>1997 1e kwartaal</td>\n",
       "      <td>1.1</td>\n",
       "    </tr>\n",
       "    <tr>\n",
       "      <th>3</th>\n",
       "      <td>Volume, t.o.v. voorgaande periode</td>\n",
       "      <td>1997 2e kwartaal</td>\n",
       "      <td>1.0</td>\n",
       "    </tr>\n",
       "    <tr>\n",
       "      <th>4</th>\n",
       "      <td>Volume, t.o.v. voorgaande periode</td>\n",
       "      <td>1997 3e kwartaal</td>\n",
       "      <td>1.5</td>\n",
       "    </tr>\n",
       "  </tbody>\n",
       "</table>\n",
       "</div>"
      ],
      "text/plain": [
       "                      Soort mutaties          Perioden  \\\n",
       "0  Volume, t.o.v. voorgaande periode  1996 3e kwartaal   \n",
       "1  Volume, t.o.v. voorgaande periode  1996 4e kwartaal   \n",
       "2  Volume, t.o.v. voorgaande periode  1997 1e kwartaal   \n",
       "3  Volume, t.o.v. voorgaande periode  1997 2e kwartaal   \n",
       "4  Volume, t.o.v. voorgaande periode  1997 3e kwartaal   \n",
       "\n",
       "   Opbouw bbp vanuit de finale bestedingen/Beschikbaar voor finale bestedingen/Bruto binnenlands product (%)  \n",
       "0                                                1.4                                                          \n",
       "1                                                0.7                                                          \n",
       "2                                                1.1                                                          \n",
       "3                                                1.0                                                          \n",
       "4                                                1.5                                                          "
      ]
     },
     "execution_count": 2,
     "metadata": {},
     "output_type": "execute_result"
    }
   ],
   "source": [
    "df_GDP_emp = pd.read_csv('statistics_CBS/Bbp__kwartalen__mutaties_04052022_121623.csv', delimiter=';')\n",
    "df_GDP_emp.head()"
   ]
  },
  {
   "cell_type": "code",
   "execution_count": 3,
   "metadata": {},
   "outputs": [
    {
     "data": {
      "text/html": [
       "<div>\n",
       "<style scoped>\n",
       "    .dataframe tbody tr th:only-of-type {\n",
       "        vertical-align: middle;\n",
       "    }\n",
       "\n",
       "    .dataframe tbody tr th {\n",
       "        vertical-align: top;\n",
       "    }\n",
       "\n",
       "    .dataframe thead th {\n",
       "        text-align: right;\n",
       "    }\n",
       "</style>\n",
       "<table border=\"1\" class=\"dataframe\">\n",
       "  <thead>\n",
       "    <tr style=\"text-align: right;\">\n",
       "      <th></th>\n",
       "      <th>Goederen en diensten</th>\n",
       "      <th>Perioden</th>\n",
       "      <th>Waarde/Indexcijfers (2000 = 100) (2000=100)</th>\n",
       "    </tr>\n",
       "  </thead>\n",
       "  <tbody>\n",
       "    <tr>\n",
       "      <th>0</th>\n",
       "      <td>Consumptie binnenland</td>\n",
       "      <td>1995 januari</td>\n",
       "      <td>71.1</td>\n",
       "    </tr>\n",
       "    <tr>\n",
       "      <th>1</th>\n",
       "      <td>Consumptie binnenland</td>\n",
       "      <td>1995 februari</td>\n",
       "      <td>66.9</td>\n",
       "    </tr>\n",
       "    <tr>\n",
       "      <th>2</th>\n",
       "      <td>Consumptie binnenland</td>\n",
       "      <td>1995 maart</td>\n",
       "      <td>73.5</td>\n",
       "    </tr>\n",
       "    <tr>\n",
       "      <th>3</th>\n",
       "      <td>Consumptie binnenland</td>\n",
       "      <td>1995 april</td>\n",
       "      <td>70.2</td>\n",
       "    </tr>\n",
       "    <tr>\n",
       "      <th>4</th>\n",
       "      <td>Consumptie binnenland</td>\n",
       "      <td>1995 mei</td>\n",
       "      <td>71.6</td>\n",
       "    </tr>\n",
       "  </tbody>\n",
       "</table>\n",
       "</div>"
      ],
      "text/plain": [
       "    Goederen en diensten       Perioden  \\\n",
       "0  Consumptie binnenland   1995 januari   \n",
       "1  Consumptie binnenland  1995 februari   \n",
       "2  Consumptie binnenland     1995 maart   \n",
       "3  Consumptie binnenland     1995 april   \n",
       "4  Consumptie binnenland       1995 mei   \n",
       "\n",
       "   Waarde/Indexcijfers (2000 = 100) (2000=100)  \n",
       "0                                         71.1  \n",
       "1                                         66.9  \n",
       "2                                         73.5  \n",
       "3                                         70.2  \n",
       "4                                         71.6  "
      ]
     },
     "execution_count": 3,
     "metadata": {},
     "output_type": "execute_result"
    }
   ],
   "source": [
    "df_C_emp = pd.read_csv('statistics_CBS/Bestedingen__consumptie_huishoudens_11052022_103727.csv', delimiter=';')\n",
    "df_C_emp.head()"
   ]
  },
  {
   "cell_type": "code",
   "execution_count": 4,
   "metadata": {},
   "outputs": [],
   "source": [
    "df_GDP_sim = pd.read_csv('../results/result_data/first.csv')\n",
    "GDP_sim = 100 * df_GDP_sim['GDP'].to_numpy()[100:] / df_GDP_sim['CPI'].to_numpy()[100:]"
   ]
  },
  {
   "cell_type": "code",
   "execution_count": 5,
   "metadata": {},
   "outputs": [],
   "source": [
    "C_sim = 100 * df_GDP_sim['C'].to_numpy()[100:] / df_GDP_sim['CPI'].to_numpy()[100:]"
   ]
  },
  {
   "cell_type": "code",
   "execution_count": 6,
   "metadata": {},
   "outputs": [],
   "source": [
    "gr_GDP_emp = df_GDP_emp['Opbouw bbp vanuit de finale bestedingen/Beschikbaar voor finale bestedingen/Bruto binnenlands product (%)'].to_numpy()"
   ]
  },
  {
   "cell_type": "code",
   "execution_count": 7,
   "metadata": {},
   "outputs": [],
   "source": [
    "idx_C_emp = df_C_emp['Waarde/Indexcijfers (2000 = 100) (2000=100)'].to_numpy()\n",
    "gr_C_emp = 100 * (np.log(idx_C_emp[1:]) - np.log(idx_C_emp[:-1]))"
   ]
  },
  {
   "cell_type": "code",
   "execution_count": 8,
   "metadata": {},
   "outputs": [],
   "source": [
    "gr_GDP_sim = 100 * (GDP_sim[3:] - GDP_sim[:-3]) / GDP_sim[:-3]"
   ]
  },
  {
   "cell_type": "code",
   "execution_count": 9,
   "metadata": {},
   "outputs": [],
   "source": [
    "gr_C_sim = 100 * (GDP_sim[1:] - GDP_sim[:-1]) / GDP_sim[:-1]"
   ]
  },
  {
   "cell_type": "code",
   "execution_count": 10,
   "metadata": {},
   "outputs": [],
   "source": [
    "# generate CDF for GDP\n",
    "emp_GDP_CDF = sm.distributions.ECDF(gr_GDP_emp)\n",
    "sim_GDP_CDF = sm.distributions.ECDF(gr_GDP_sim)\n"
   ]
  },
  {
   "cell_type": "code",
   "execution_count": 11,
   "metadata": {},
   "outputs": [],
   "source": [
    "# generate CDF for C\n",
    "emp_C_CDF = sm.distributions.ECDF(gr_C_emp)\n",
    "sim_C_CDF = sm.distributions.ECDF(gr_C_sim)"
   ]
  },
  {
   "cell_type": "code",
   "execution_count": 12,
   "metadata": {},
   "outputs": [
    {
     "data": {
      "image/png": "[encoded data removed]",
      "text/plain": [
       "<Figure size 576x504 with 4 Axes>"
      ]
     },
     "metadata": {
      "needs_background": "light"
     },
     "output_type": "display_data"
    }
   ],
   "source": [
    "fig, ax = plt.subplots(2, 2, figsize=(8,7))\n",
    "\n",
    "plt.rc('text', usetex=True)\n",
    "plt.rc('font', family='serif')\n",
    "\n",
    "ax[0,0].hist(gr_GDP_emp, bins=50, density=True, label='empirical', color='red', alpha=0.5)\n",
    "ax[0,0].hist(gr_GDP_sim, bins=50, density=True, label='simulation', color='blue', alpha=0.5)\n",
    "ax[0,0].set_xlabel('growth rate (\\%)')\n",
    "ax[0,0].set_title('(a) PDF for quarterly GDP growth')\n",
    "ax[0,0].set_xlim(-10, 10)\n",
    "ax[0,0].legend()\n",
    "\n",
    "x_GDP_emp = np.linspace(min(gr_GDP_emp), max(gr_GDP_emp), len(gr_GDP_emp))\n",
    "x_GDP_sim = np.linspace(min(gr_GDP_sim), max(gr_GDP_sim), len(gr_GDP_sim))\n",
    "y_GDP_emp = emp_GDP_CDF(x_GDP_emp)\n",
    "y_GDP_sim = sim_GDP_CDF(x_GDP_sim)\n",
    "ax[0,1].step(x_GDP_emp, y_GDP_emp, label='empirical', color='red')\n",
    "ax[0,1].step(x_GDP_sim, y_GDP_sim, label='simulation', color='blue')\n",
    "ax[0,1].set_xlabel('growth rate (\\%)')\n",
    "ax[0,1].set_title('(b) PDF for quarterly GDP growth')\n",
    "ax[0,1].set_xlim(-10, 10)\n",
    "ax[0,1].legend()\n",
    "\n",
    "\n",
    "ax[1,0].hist(gr_C_emp, bins=50, density=True, label='empirical', color='red', alpha=0.5)\n",
    "ax[1,0].hist(gr_C_sim, bins=50, density=True, label='simulation', color='blue', alpha=0.5)\n",
    "ax[1,0].set_title('(c) PDF for monthly C growth')\n",
    "ax[1,0].set_xlim(-10, 10)\n",
    "ax[1,0].legend()\n",
    "\n",
    "x_C_emp = np.linspace(min(gr_C_emp), max(gr_C_emp), len(gr_C_emp))\n",
    "x_C_sim = np.linspace(min(gr_C_sim), max(gr_C_sim), len(gr_C_sim))\n",
    "y_C_emp = emp_C_CDF(x_C_emp)\n",
    "y_C_sim = sim_C_CDF(x_C_sim)\n",
    "ax[1,1].step(x_C_emp, y_C_emp, label='empirical', color='red')\n",
    "ax[1,1].step(x_C_sim, y_C_sim, label='simulation', color='blue')\n",
    "ax[1,1].set_title('(d) CDF for monthly C growth')\n",
    "ax[1,1].set_xlim(-10, 10)\n",
    "ax[1,1].legend()\n",
    "\n",
    "plt.suptitle('Empirical and fitted PDFs and CDFs')\n",
    "\n",
    "# plt.suptitle('Quarterly growth rates in NL (1996Q2-2018Q4)')\n",
    "plt.tight_layout()\n",
    "plt.show()"
   ]
  },
  {
   "cell_type": "code",
   "execution_count": 13,
   "metadata": {},
   "outputs": [
    {
     "name": "stdout",
     "output_type": "stream",
     "text": [
      "KstestResult(statistic=0.2107376283846872, pvalue=0.0027672944390351173)\n"
     ]
    }
   ],
   "source": [
    "# Perform 2-sample KS test\n",
    "KS_test = stats.ks_2samp(gr_GDP_sim, gr_GDP_emp)\n",
    "print(KS_test)"
   ]
  },
  {
   "cell_type": "code",
   "execution_count": 14,
   "metadata": {},
   "outputs": [
    {
     "name": "stdout",
     "output_type": "stream",
     "text": [
      "ADF GDP emp: p-val: 6.059979470901317e-07\n",
      "ADF GDP sim: p-val: 8.847444049457886e-08\n"
     ]
    }
   ],
   "source": [
    "ADF_test = sm.tsa.stattools.adfuller(gr_GDP_emp)\n",
    "print(f\"ADF GDP emp: p-val: {ADF_test[1]}\")\n",
    "\n",
    "ADF_test = sm.tsa.stattools.adfuller(gr_GDP_sim)\n",
    "print(f\"ADF GDP sim: p-val: {ADF_test[1]}\")"
   ]
  },
  {
   "cell_type": "code",
   "execution_count": 15,
   "metadata": {},
   "outputs": [
    {
     "name": "stdout",
     "output_type": "stream",
     "text": [
      "KstestResult(statistic=0.30418207573179196, pvalue=1.0580425424677742e-13)\n"
     ]
    }
   ],
   "source": [
    "KS_test = stats.ks_2samp(gr_C_sim, gr_C_emp)\n",
    "print(KS_test)"
   ]
  },
  {
   "cell_type": "code",
   "execution_count": 16,
   "metadata": {},
   "outputs": [
    {
     "name": "stdout",
     "output_type": "stream",
     "text": [
      "ADF C emp: p-val: 0.29035246784139046\n",
      "ADF C sim: p-val: 3.6871832100867204e-14\n"
     ]
    }
   ],
   "source": [
    "ADF_test = sm.tsa.stattools.adfuller(gr_C_emp)\n",
    "print(f\"ADF C emp: p-val: {ADF_test[1]}\")\n",
    "\n",
    "ADF_test = sm.tsa.stattools.adfuller(gr_C_sim)\n",
    "print(f\"ADF C sim: p-val: {ADF_test[1]}\")"
   ]
  },
  {
   "cell_type": "code",
   "execution_count": null,
   "metadata": {},
   "outputs": [],
   "source": []
  }
 ],
 "metadata": {
  "interpreter": {
   "hash": "31f2aee4e71d21fbe5cf8b01ff0e069b9275f58929596ceb00d14d90e3e16cd6"
  },
  "kernelspec": {
   "display_name": "Python 3.8.10 64-bit",
   "language": "python",
   "name": "python3"
  },
  "language_info": {
   "codemirror_mode": {
    "name": "ipython",
    "version": 3
   },
   "file_extension": ".py",
   "mimetype": "text/x-python",
   "name": "python",
   "nbconvert_exporter": "python",
   "pygments_lexer": "ipython3",
   "version": "3.8.10"
  },
  "orig_nbformat": 4
 },
 "nbformat": 4,
 "nbformat_minor": 2
}
