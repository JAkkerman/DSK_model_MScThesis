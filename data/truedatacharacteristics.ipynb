{
 "cells": [
  {
   "cell_type": "code",
   "execution_count": 1,
   "metadata": {},
   "outputs": [],
   "source": [
    "import numpy as np\n",
    "import pandas as pd\n",
    "import matplotlib.pyplot as plt\n",
    "import scipy.stats as stats\n",
    "import statsmodels.api as sm"
   ]
  },
  {
   "cell_type": "markdown",
   "metadata": {},
   "source": [
    "### GDP"
   ]
  },
  {
   "cell_type": "code",
   "execution_count": 2,
   "metadata": {},
   "outputs": [
    {
     "data": {
      "text/html": [
       "<div>\n",
       "<style scoped>\n",
       "    .dataframe tbody tr th:only-of-type {\n",
       "        vertical-align: middle;\n",
       "    }\n",
       "\n",
       "    .dataframe tbody tr th {\n",
       "        vertical-align: top;\n",
       "    }\n",
       "\n",
       "    .dataframe thead th {\n",
       "        text-align: right;\n",
       "    }\n",
       "</style>\n",
       "<table border=\"1\" class=\"dataframe\">\n",
       "  <thead>\n",
       "    <tr style=\"text-align: right;\">\n",
       "      <th></th>\n",
       "      <th>Soort mutaties</th>\n",
       "      <th>Perioden</th>\n",
       "      <th>Opbouw bbp vanuit de finale bestedingen/Beschikbaar voor finale bestedingen/Bruto binnenlands product (%)</th>\n",
       "    </tr>\n",
       "  </thead>\n",
       "  <tbody>\n",
       "    <tr>\n",
       "      <th>0</th>\n",
       "      <td>Volume, t.o.v. voorgaande periode</td>\n",
       "      <td>1996 3e kwartaal</td>\n",
       "      <td>1.4</td>\n",
       "    </tr>\n",
       "    <tr>\n",
       "      <th>1</th>\n",
       "      <td>Volume, t.o.v. voorgaande periode</td>\n",
       "      <td>1996 4e kwartaal</td>\n",
       "      <td>0.7</td>\n",
       "    </tr>\n",
       "    <tr>\n",
       "      <th>2</th>\n",
       "      <td>Volume, t.o.v. voorgaande periode</td>\n",
       "      <td>1997 1e kwartaal</td>\n",
       "      <td>1.1</td>\n",
       "    </tr>\n",
       "    <tr>\n",
       "      <th>3</th>\n",
       "      <td>Volume, t.o.v. voorgaande periode</td>\n",
       "      <td>1997 2e kwartaal</td>\n",
       "      <td>1.0</td>\n",
       "    </tr>\n",
       "    <tr>\n",
       "      <th>4</th>\n",
       "      <td>Volume, t.o.v. voorgaande periode</td>\n",
       "      <td>1997 3e kwartaal</td>\n",
       "      <td>1.5</td>\n",
       "    </tr>\n",
       "    <tr>\n",
       "      <th>...</th>\n",
       "      <td>...</td>\n",
       "      <td>...</td>\n",
       "      <td>...</td>\n",
       "    </tr>\n",
       "    <tr>\n",
       "      <th>75</th>\n",
       "      <td>Volume, t.o.v. voorgaande periode</td>\n",
       "      <td>2015 2e kwartaal</td>\n",
       "      <td>0.3</td>\n",
       "    </tr>\n",
       "    <tr>\n",
       "      <th>76</th>\n",
       "      <td>Volume, t.o.v. voorgaande periode</td>\n",
       "      <td>2015 3e kwartaal</td>\n",
       "      <td>0.3</td>\n",
       "    </tr>\n",
       "    <tr>\n",
       "      <th>77</th>\n",
       "      <td>Volume, t.o.v. voorgaande periode</td>\n",
       "      <td>2015 4e kwartaal</td>\n",
       "      <td>0.0</td>\n",
       "    </tr>\n",
       "    <tr>\n",
       "      <th>78</th>\n",
       "      <td>Volume, t.o.v. voorgaande periode</td>\n",
       "      <td>2016 1e kwartaal</td>\n",
       "      <td>0.9</td>\n",
       "    </tr>\n",
       "    <tr>\n",
       "      <th>79</th>\n",
       "      <td>Volume, t.o.v. voorgaande periode</td>\n",
       "      <td>2016 2e kwartaal</td>\n",
       "      <td>0.2</td>\n",
       "    </tr>\n",
       "  </tbody>\n",
       "</table>\n",
       "<p>80 rows × 3 columns</p>\n",
       "</div>"
      ],
      "text/plain": [
       "                       Soort mutaties          Perioden  \\\n",
       "0   Volume, t.o.v. voorgaande periode  1996 3e kwartaal   \n",
       "1   Volume, t.o.v. voorgaande periode  1996 4e kwartaal   \n",
       "2   Volume, t.o.v. voorgaande periode  1997 1e kwartaal   \n",
       "3   Volume, t.o.v. voorgaande periode  1997 2e kwartaal   \n",
       "4   Volume, t.o.v. voorgaande periode  1997 3e kwartaal   \n",
       "..                                ...               ...   \n",
       "75  Volume, t.o.v. voorgaande periode  2015 2e kwartaal   \n",
       "76  Volume, t.o.v. voorgaande periode  2015 3e kwartaal   \n",
       "77  Volume, t.o.v. voorgaande periode  2015 4e kwartaal   \n",
       "78  Volume, t.o.v. voorgaande periode  2016 1e kwartaal   \n",
       "79  Volume, t.o.v. voorgaande periode  2016 2e kwartaal   \n",
       "\n",
       "    Opbouw bbp vanuit de finale bestedingen/Beschikbaar voor finale bestedingen/Bruto binnenlands product (%)  \n",
       "0                                                 1.4                                                          \n",
       "1                                                 0.7                                                          \n",
       "2                                                 1.1                                                          \n",
       "3                                                 1.0                                                          \n",
       "4                                                 1.5                                                          \n",
       "..                                                ...                                                          \n",
       "75                                                0.3                                                          \n",
       "76                                                0.3                                                          \n",
       "77                                                0.0                                                          \n",
       "78                                                0.9                                                          \n",
       "79                                                0.2                                                          \n",
       "\n",
       "[80 rows x 3 columns]"
      ]
     },
     "execution_count": 2,
     "metadata": {},
     "output_type": "execute_result"
    }
   ],
   "source": [
    "df = pd.read_csv('statistics_CBS/Bbp__kwartalen__mutaties_04052022_121623.csv', delimiter=\";\")\n",
    "df.head(-10)"
   ]
  },
  {
   "cell_type": "code",
   "execution_count": 3,
   "metadata": {},
   "outputs": [],
   "source": [
    "GDP_g = df[\"Opbouw bbp vanuit de finale bestedingen/Beschikbaar voor finale bestedingen/Bruto binnenlands product (%)\"].to_numpy()"
   ]
  },
  {
   "cell_type": "code",
   "execution_count": 4,
   "metadata": {},
   "outputs": [],
   "source": [
    "def compute_moments_autocorr(data, name):\n",
    "    print(\"Moments:\")\n",
    "    print(f\"    {name} first moment: {round(np.mean(data),3)}%\")\n",
    "    print(f\"    {name} second moment: {round(np.var(data),3)}\")\n",
    "    print(f\"    {name} third moment: {round(stats.skew(data),3)}\")\n",
    "    print(f\"    {name} fourth moment: {round(stats.kurtosis(data),3)}\")\n",
    "    print()\n",
    "\n",
    "    print(\"Autocorrelations:\")\n",
    "    autocorr_1 = stats.pearsonr(data[:-1], data[1:])\n",
    "    print(f\"    {name} autocorrelation 1st: {round(autocorr_1[0],3)}, pval: {round(autocorr_1[1], 3)}\")\n",
    "    autocorr_2 = stats.pearsonr(data[:-2], data[2:])\n",
    "    print(f\"    {name} autocorrelation 2nd: {round(autocorr_2[0],3)}, pval: {round(autocorr_2[1], 3)}\")\n",
    "    autocorr_3 = stats.pearsonr(data[:-3], data[3:])\n",
    "    print(f\"    {name} autocorrelation 3rd: {round(autocorr_3[0],3)}, pval: {round(autocorr_3[1], 3)}\")"
   ]
  },
  {
   "cell_type": "code",
   "execution_count": 5,
   "metadata": {},
   "outputs": [
    {
     "name": "stdout",
     "output_type": "stream",
     "text": [
      "Moments:\n",
      "    GDP growth first moment: 0.482%\n",
      "    GDP growth second moment: 0.47\n",
      "    GDP growth third moment: -2.272\n",
      "    GDP growth fourth moment: 11.945\n",
      "\n",
      "Autocorrelations:\n",
      "    GDP growth autocorrelation 1st: 0.464, pval: 0.0\n",
      "    GDP growth autocorrelation 2nd: 0.372, pval: 0.0\n",
      "    GDP growth autocorrelation 3rd: 0.232, pval: 0.03\n"
     ]
    }
   ],
   "source": [
    "compute_moments_autocorr(GDP_g, \"GDP growth\")"
   ]
  },
  {
   "cell_type": "code",
   "execution_count": 6,
   "metadata": {},
   "outputs": [
    {
     "data": {
      "image/png": "[encoded data removed]",
      "text/plain": [
       "<Figure size 432x288 with 1 Axes>"
      ]
     },
     "metadata": {
      "needs_background": "light"
     },
     "output_type": "display_data"
    }
   ],
   "source": [
    "dens = sm.nonparametric.KDEUnivariate(GDP_g)\n",
    "dens.fit()\n",
    "\n",
    "plt.hist(GDP_g, bins=30, density=True)\n",
    "plt.plot(dens.support, dens.density)\n",
    "plt.show()"
   ]
  },
  {
   "cell_type": "markdown",
   "metadata": {},
   "source": [
    "## Unemployment Rate"
   ]
  },
  {
   "cell_type": "code",
   "execution_count": 7,
   "metadata": {},
   "outputs": [
    {
     "data": {
      "text/html": [
       "<div>\n",
       "<style scoped>\n",
       "    .dataframe tbody tr th:only-of-type {\n",
       "        vertical-align: middle;\n",
       "    }\n",
       "\n",
       "    .dataframe tbody tr th {\n",
       "        vertical-align: top;\n",
       "    }\n",
       "\n",
       "    .dataframe thead th {\n",
       "        text-align: right;\n",
       "    }\n",
       "</style>\n",
       "<table border=\"1\" class=\"dataframe\">\n",
       "  <thead>\n",
       "    <tr style=\"text-align: right;\">\n",
       "      <th></th>\n",
       "      <th>Geslacht</th>\n",
       "      <th>Leeftijd</th>\n",
       "      <th>Perioden</th>\n",
       "      <th>Werkloosheidspercentage/Seizoengecorrigeerd (%)</th>\n",
       "    </tr>\n",
       "  </thead>\n",
       "  <tbody>\n",
       "    <tr>\n",
       "      <th>0</th>\n",
       "      <td>Totaal</td>\n",
       "      <td>15 tot 75 jaar</td>\n",
       "      <td>2003 1e kwartaal</td>\n",
       "      <td>5.4</td>\n",
       "    </tr>\n",
       "    <tr>\n",
       "      <th>1</th>\n",
       "      <td>Totaal</td>\n",
       "      <td>15 tot 75 jaar</td>\n",
       "      <td>2003 2e kwartaal</td>\n",
       "      <td>5.8</td>\n",
       "    </tr>\n",
       "    <tr>\n",
       "      <th>2</th>\n",
       "      <td>Totaal</td>\n",
       "      <td>15 tot 75 jaar</td>\n",
       "      <td>2003 3e kwartaal</td>\n",
       "      <td>6.1</td>\n",
       "    </tr>\n",
       "    <tr>\n",
       "      <th>3</th>\n",
       "      <td>Totaal</td>\n",
       "      <td>15 tot 75 jaar</td>\n",
       "      <td>2003 4e kwartaal</td>\n",
       "      <td>6.4</td>\n",
       "    </tr>\n",
       "    <tr>\n",
       "      <th>4</th>\n",
       "      <td>Totaal</td>\n",
       "      <td>15 tot 75 jaar</td>\n",
       "      <td>2004 1e kwartaal</td>\n",
       "      <td>6.6</td>\n",
       "    </tr>\n",
       "  </tbody>\n",
       "</table>\n",
       "</div>"
      ],
      "text/plain": [
       "  Geslacht        Leeftijd          Perioden  \\\n",
       "0   Totaal  15 tot 75 jaar  2003 1e kwartaal   \n",
       "1   Totaal  15 tot 75 jaar  2003 2e kwartaal   \n",
       "2   Totaal  15 tot 75 jaar  2003 3e kwartaal   \n",
       "3   Totaal  15 tot 75 jaar  2003 4e kwartaal   \n",
       "4   Totaal  15 tot 75 jaar  2004 1e kwartaal   \n",
       "\n",
       "   Werkloosheidspercentage/Seizoengecorrigeerd (%)  \n",
       "0                                              5.4  \n",
       "1                                              5.8  \n",
       "2                                              6.1  \n",
       "3                                              6.4  \n",
       "4                                              6.6  "
      ]
     },
     "execution_count": 7,
     "metadata": {},
     "output_type": "execute_result"
    }
   ],
   "source": [
    "df = pd.read_csv(\"statistics_CBS/Arbeidsdeelname_per_maand__05072022_141822.csv\", delimiter=';')\n",
    "df.head()"
   ]
  },
  {
   "cell_type": "code",
   "execution_count": 8,
   "metadata": {},
   "outputs": [],
   "source": [
    "Unemp_rates = df['Werkloosheidspercentage/Seizoengecorrigeerd (%)'].to_numpy() / 100"
   ]
  },
  {
   "cell_type": "code",
   "execution_count": 9,
   "metadata": {},
   "outputs": [
    {
     "name": "stdout",
     "output_type": "stream",
     "text": [
      "Moments:\n",
      "    unemployment rate first moment: 0.061%\n",
      "    unemployment rate second moment: 0.0\n",
      "    unemployment rate third moment: 0.279\n",
      "    unemployment rate fourth moment: -0.767\n",
      "\n",
      "Autocorrelations:\n",
      "    unemployment rate autocorrelation 1st: 0.974, pval: 0.0\n",
      "    unemployment rate autocorrelation 2nd: 0.921, pval: 0.0\n",
      "    unemployment rate autocorrelation 3rd: 0.857, pval: 0.0\n"
     ]
    }
   ],
   "source": [
    "compute_moments_autocorr(Unemp_rates, \"unemployment rate\")"
   ]
  },
  {
   "cell_type": "code",
   "execution_count": 19,
   "metadata": {},
   "outputs": [],
   "source": [
    "Unemp_rates_change = (Unemp_rates[1:] - Unemp_rates[:-1]) / Unemp_rates[:-1]"
   ]
  },
  {
   "cell_type": "code",
   "execution_count": 20,
   "metadata": {},
   "outputs": [
    {
     "name": "stdout",
     "output_type": "stream",
     "text": [
      "Moments:\n",
      "    unemployment rate change first moment: -0.003%\n",
      "    unemployment rate change second moment: 0.003\n",
      "    unemployment rate change third moment: 1.066\n",
      "    unemployment rate change fourth moment: 2.138\n",
      "\n",
      "Autocorrelations:\n",
      "    unemployment rate change autocorrelation 1st: 0.462, pval: 0.0\n",
      "    unemployment rate change autocorrelation 2nd: 0.109, pval: 0.36\n",
      "    unemployment rate change autocorrelation 3rd: 0.181, pval: 0.129\n"
     ]
    }
   ],
   "source": [
    "compute_moments_autocorr(Unemp_rates_change, \"unemployment rate change\")"
   ]
  },
  {
   "cell_type": "code",
   "execution_count": 13,
   "metadata": {},
   "outputs": [
    {
     "name": "stdout",
     "output_type": "stream",
     "text": [
      "corr GDP UR change: 0.18219323155701653, pval: 0.15296162476879224\n"
     ]
    }
   ],
   "source": [
    "# Compute correlation between GDP growth and unemployment rate\n",
    "GDP_UR_corr = stats.pearsonr(Unemp_rates[:63], GDP_g[27:])\n",
    "print(f\"corr GDP UR change: {GDP_UR_corr[0]}, pval: {GDP_UR_corr[1]}\")"
   ]
  },
  {
   "cell_type": "code",
   "execution_count": 14,
   "metadata": {},
   "outputs": [
    {
     "name": "stdout",
     "output_type": "stream",
     "text": [
      "corr GDP dUR change: -0.5095619500299846, pval: 1.7048155065202144e-05\n"
     ]
    }
   ],
   "source": [
    "# Compute correlation between GDP growth and unemployment change\n",
    "GDP_dUR_corr = stats.pearsonr(Unemp_rates_change[:64], GDP_g[26:])\n",
    "print(f\"corr GDP dUR change: {GDP_dUR_corr[0]}, pval: {GDP_dUR_corr[1]}\")"
   ]
  },
  {
   "cell_type": "code",
   "execution_count": 15,
   "metadata": {},
   "outputs": [],
   "source": [
    "dGDP = GDP_g[27:]\n",
    "Ur = Unemp_rates[:63]"
   ]
  },
  {
   "cell_type": "markdown",
   "metadata": {},
   "source": [
    "## Emissions"
   ]
  },
  {
   "cell_type": "markdown",
   "metadata": {},
   "source": [
    "No exact number for indeces available, so indeces are interpolated"
   ]
  },
  {
   "cell_type": "code",
   "execution_count": 16,
   "metadata": {},
   "outputs": [
    {
     "data": {
      "image/png": "[encoded data removed]",
      "text/plain": [
       "<Figure size 432x288 with 1 Axes>"
      ]
     },
     "metadata": {
      "needs_background": "light"
     },
     "output_type": "display_data"
    }
   ],
   "source": [
    "indeces = [100, 112.72727273, 121.81818182, 127.27272727]\n",
    "years = [2020, 2030, 2040, 2050]\n",
    "\n",
    "deg = 3\n",
    "\n",
    "p = np.poly1d(np.polyfit(years, indeces, deg))\n",
    "\n",
    "xrange=np.linspace(2020, 2050, len(dGDP))\n",
    "plt.plot(years, indeces)\n",
    "plt.plot(xrange, p(xrange))\n",
    "plt.show()\n",
    "\n",
    "em = p(xrange)"
   ]
  },
  {
   "cell_type": "code",
   "execution_count": 32,
   "metadata": {},
   "outputs": [],
   "source": [
    "xrange = np.linspace(2020, 2050, 361)\n",
    "em = p(xrange)\n",
    "\n",
    "em_dict = {f\"gdp_{100 + i}\": [em_i] for i, em_i in enumerate(em)}\n",
    "pd.DataFrame(em_dict).to_csv('emissions_interpolated.csv', index=False)"
   ]
  },
  {
   "cell_type": "markdown",
   "metadata": {},
   "source": [
    "## Save data"
   ]
  },
  {
   "cell_type": "code",
   "execution_count": 18,
   "metadata": {},
   "outputs": [
    {
     "ename": "ValueError",
     "evalue": "All arrays must be of the same length",
     "output_type": "error",
     "traceback": [
      "\u001b[0;31m---------------------------------------------------------------------------\u001b[0m",
      "\u001b[0;31mValueError\u001b[0m                                Traceback (most recent call last)",
      "\u001b[1;32m/mnt/c/Users/juliu/OneDrive/Bureaublad/MSc/Thesis/DSK_model_MScThesis/data/truedatacharacteristics.ipynb Cell 22\u001b[0m in \u001b[0;36m<module>\u001b[0;34m\u001b[0m\n\u001b[1;32m      <a href='vscode-notebook-cell://wsl%2Bubuntu-20.04/mnt/c/Users/juliu/OneDrive/Bureaublad/MSc/Thesis/DSK_model_MScThesis/data/truedatacharacteristics.ipynb#ch0000020vscode-remote?line=0'>1</a>\u001b[0m \u001b[39m# truedat = np.array([dGDP, Ur, em]).T\u001b[39;00m\n\u001b[1;32m      <a href='vscode-notebook-cell://wsl%2Bubuntu-20.04/mnt/c/Users/juliu/OneDrive/Bureaublad/MSc/Thesis/DSK_model_MScThesis/data/truedatacharacteristics.ipynb#ch0000020vscode-remote?line=1'>2</a>\u001b[0m truedat \u001b[39m=\u001b[39m {\u001b[39m\"\u001b[39m\u001b[39mdGDP\u001b[39m\u001b[39m\"\u001b[39m: dGDP, \u001b[39m\"\u001b[39m\u001b[39mUr\u001b[39m\u001b[39m\"\u001b[39m: Ur, \u001b[39m\"\u001b[39m\u001b[39mem\u001b[39m\u001b[39m\"\u001b[39m: em}\n\u001b[0;32m----> <a href='vscode-notebook-cell://wsl%2Bubuntu-20.04/mnt/c/Users/juliu/OneDrive/Bureaublad/MSc/Thesis/DSK_model_MScThesis/data/truedatacharacteristics.ipynb#ch0000020vscode-remote?line=2'>3</a>\u001b[0m pd\u001b[39m.\u001b[39;49mDataFrame(truedat)\u001b[39m.\u001b[39mto_csv(\u001b[39m'\u001b[39m\u001b[39m../parameters/calibration/calibrationdata/truedata.csv\u001b[39m\u001b[39m'\u001b[39m, index\u001b[39m=\u001b[39m\u001b[39mFalse\u001b[39;00m)\n",
      "File \u001b[0;32m~/.local/lib/python3.8/site-packages/pandas/core/frame.py:614\u001b[0m, in \u001b[0;36mDataFrame.__init__\u001b[0;34m(self, data, index, columns, dtype, copy)\u001b[0m\n\u001b[1;32m    608\u001b[0m     mgr \u001b[39m=\u001b[39m \u001b[39mself\u001b[39m\u001b[39m.\u001b[39m_init_mgr(\n\u001b[1;32m    609\u001b[0m         data, axes\u001b[39m=\u001b[39m{\u001b[39m\"\u001b[39m\u001b[39mindex\u001b[39m\u001b[39m\"\u001b[39m: index, \u001b[39m\"\u001b[39m\u001b[39mcolumns\u001b[39m\u001b[39m\"\u001b[39m: columns}, dtype\u001b[39m=\u001b[39mdtype, copy\u001b[39m=\u001b[39mcopy\n\u001b[1;32m    610\u001b[0m     )\n\u001b[1;32m    612\u001b[0m \u001b[39melif\u001b[39;00m \u001b[39misinstance\u001b[39m(data, \u001b[39mdict\u001b[39m):\n\u001b[1;32m    613\u001b[0m     \u001b[39m# GH#38939 de facto copy defaults to False only in non-dict cases\u001b[39;00m\n\u001b[0;32m--> 614\u001b[0m     mgr \u001b[39m=\u001b[39m dict_to_mgr(data, index, columns, dtype\u001b[39m=\u001b[39;49mdtype, copy\u001b[39m=\u001b[39;49mcopy, typ\u001b[39m=\u001b[39;49mmanager)\n\u001b[1;32m    615\u001b[0m \u001b[39melif\u001b[39;00m \u001b[39misinstance\u001b[39m(data, ma\u001b[39m.\u001b[39mMaskedArray):\n\u001b[1;32m    616\u001b[0m     \u001b[39mimport\u001b[39;00m \u001b[39mnumpy\u001b[39;00m\u001b[39m.\u001b[39;00m\u001b[39mma\u001b[39;00m\u001b[39m.\u001b[39;00m\u001b[39mmrecords\u001b[39;00m \u001b[39mas\u001b[39;00m \u001b[39mmrecords\u001b[39;00m\n",
      "File \u001b[0;32m~/.local/lib/python3.8/site-packages/pandas/core/internals/construction.py:464\u001b[0m, in \u001b[0;36mdict_to_mgr\u001b[0;34m(data, index, columns, dtype, typ, copy)\u001b[0m\n\u001b[1;32m    456\u001b[0m     arrays \u001b[39m=\u001b[39m [\n\u001b[1;32m    457\u001b[0m         x\n\u001b[1;32m    458\u001b[0m         \u001b[39mif\u001b[39;00m \u001b[39mnot\u001b[39;00m \u001b[39mhasattr\u001b[39m(x, \u001b[39m\"\u001b[39m\u001b[39mdtype\u001b[39m\u001b[39m\"\u001b[39m) \u001b[39mor\u001b[39;00m \u001b[39mnot\u001b[39;00m \u001b[39misinstance\u001b[39m(x\u001b[39m.\u001b[39mdtype, ExtensionDtype)\n\u001b[1;32m    459\u001b[0m         \u001b[39melse\u001b[39;00m x\u001b[39m.\u001b[39mcopy()\n\u001b[1;32m    460\u001b[0m         \u001b[39mfor\u001b[39;00m x \u001b[39min\u001b[39;00m arrays\n\u001b[1;32m    461\u001b[0m     ]\n\u001b[1;32m    462\u001b[0m     \u001b[39m# TODO: can we get rid of the dt64tz special case above?\u001b[39;00m\n\u001b[0;32m--> 464\u001b[0m \u001b[39mreturn\u001b[39;00m arrays_to_mgr(\n\u001b[1;32m    465\u001b[0m     arrays, data_names, index, columns, dtype\u001b[39m=\u001b[39;49mdtype, typ\u001b[39m=\u001b[39;49mtyp, consolidate\u001b[39m=\u001b[39;49mcopy\n\u001b[1;32m    466\u001b[0m )\n",
      "File \u001b[0;32m~/.local/lib/python3.8/site-packages/pandas/core/internals/construction.py:119\u001b[0m, in \u001b[0;36marrays_to_mgr\u001b[0;34m(arrays, arr_names, index, columns, dtype, verify_integrity, typ, consolidate)\u001b[0m\n\u001b[1;32m    116\u001b[0m \u001b[39mif\u001b[39;00m verify_integrity:\n\u001b[1;32m    117\u001b[0m     \u001b[39m# figure out the index, if necessary\u001b[39;00m\n\u001b[1;32m    118\u001b[0m     \u001b[39mif\u001b[39;00m index \u001b[39mis\u001b[39;00m \u001b[39mNone\u001b[39;00m:\n\u001b[0;32m--> 119\u001b[0m         index \u001b[39m=\u001b[39m _extract_index(arrays)\n\u001b[1;32m    120\u001b[0m     \u001b[39melse\u001b[39;00m:\n\u001b[1;32m    121\u001b[0m         index \u001b[39m=\u001b[39m ensure_index(index)\n",
      "File \u001b[0;32m~/.local/lib/python3.8/site-packages/pandas/core/internals/construction.py:635\u001b[0m, in \u001b[0;36m_extract_index\u001b[0;34m(data)\u001b[0m\n\u001b[1;32m    633\u001b[0m lengths \u001b[39m=\u001b[39m \u001b[39mlist\u001b[39m(\u001b[39mset\u001b[39m(raw_lengths))\n\u001b[1;32m    634\u001b[0m \u001b[39mif\u001b[39;00m \u001b[39mlen\u001b[39m(lengths) \u001b[39m>\u001b[39m \u001b[39m1\u001b[39m:\n\u001b[0;32m--> 635\u001b[0m     \u001b[39mraise\u001b[39;00m \u001b[39mValueError\u001b[39;00m(\u001b[39m\"\u001b[39m\u001b[39mAll arrays must be of the same length\u001b[39m\u001b[39m\"\u001b[39m)\n\u001b[1;32m    637\u001b[0m \u001b[39mif\u001b[39;00m have_dicts:\n\u001b[1;32m    638\u001b[0m     \u001b[39mraise\u001b[39;00m \u001b[39mValueError\u001b[39;00m(\n\u001b[1;32m    639\u001b[0m         \u001b[39m\"\u001b[39m\u001b[39mMixing dicts with non-Series may lead to ambiguous ordering.\u001b[39m\u001b[39m\"\u001b[39m\n\u001b[1;32m    640\u001b[0m     )\n",
      "\u001b[0;31mValueError\u001b[0m: All arrays must be of the same length"
     ]
    }
   ],
   "source": [
    "# truedat = np.array([dGDP, Ur, em]).T\n",
    "truedat = {\"dGDP\": dGDP, \"Ur\": Ur, \"em\": em}\n",
    "pd.DataFrame(truedat).to_csv('../parameters/calibration/calibrationdata/truedata.csv', index=False)"
   ]
  }
 ],
 "metadata": {
  "kernelspec": {
   "display_name": "Python 3.8.10 64-bit",
   "language": "python",
   "name": "python3"
  },
  "language_info": {
   "codemirror_mode": {
    "name": "ipython",
    "version": 3
   },
   "file_extension": ".py",
   "mimetype": "text/x-python",
   "name": "python",
   "nbconvert_exporter": "python",
   "pygments_lexer": "ipython3",
   "version": "3.8.10"
  },
  "orig_nbformat": 4,
  "vscode": {
   "interpreter": {
    "hash": "31f2aee4e71d21fbe5cf8b01ff0e069b9275f58929596ceb00d14d90e3e16cd6"
   }
  }
 },
 "nbformat": 4,
 "nbformat_minor": 2
}
