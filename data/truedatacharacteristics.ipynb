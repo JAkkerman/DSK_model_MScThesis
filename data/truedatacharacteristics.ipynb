{
 "cells": [
  {
   "cell_type": "code",
   "execution_count": 15,
   "metadata": {},
   "outputs": [],
   "source": [
    "import numpy as np\n",
    "import pandas as pd\n",
    "import matplotlib.pyplot as plt\n",
    "import scipy.stats as stats"
   ]
  },
  {
   "cell_type": "markdown",
   "metadata": {},
   "source": [
    "### GDP"
   ]
  },
  {
   "cell_type": "code",
   "execution_count": 28,
   "metadata": {},
   "outputs": [
    {
     "data": {
      "text/html": [
       "<div>\n",
       "<style scoped>\n",
       "    .dataframe tbody tr th:only-of-type {\n",
       "        vertical-align: middle;\n",
       "    }\n",
       "\n",
       "    .dataframe tbody tr th {\n",
       "        vertical-align: top;\n",
       "    }\n",
       "\n",
       "    .dataframe thead th {\n",
       "        text-align: right;\n",
       "    }\n",
       "</style>\n",
       "<table border=\"1\" class=\"dataframe\">\n",
       "  <thead>\n",
       "    <tr style=\"text-align: right;\">\n",
       "      <th></th>\n",
       "      <th>Soort mutaties</th>\n",
       "      <th>Perioden</th>\n",
       "      <th>Opbouw bbp vanuit de finale bestedingen/Beschikbaar voor finale bestedingen/Bruto binnenlands product (%)</th>\n",
       "    </tr>\n",
       "  </thead>\n",
       "  <tbody>\n",
       "    <tr>\n",
       "      <th>0</th>\n",
       "      <td>Volume, t.o.v. voorgaande periode</td>\n",
       "      <td>1996 3e kwartaal</td>\n",
       "      <td>1.4</td>\n",
       "    </tr>\n",
       "    <tr>\n",
       "      <th>1</th>\n",
       "      <td>Volume, t.o.v. voorgaande periode</td>\n",
       "      <td>1996 4e kwartaal</td>\n",
       "      <td>0.7</td>\n",
       "    </tr>\n",
       "    <tr>\n",
       "      <th>2</th>\n",
       "      <td>Volume, t.o.v. voorgaande periode</td>\n",
       "      <td>1997 1e kwartaal</td>\n",
       "      <td>1.1</td>\n",
       "    </tr>\n",
       "    <tr>\n",
       "      <th>3</th>\n",
       "      <td>Volume, t.o.v. voorgaande periode</td>\n",
       "      <td>1997 2e kwartaal</td>\n",
       "      <td>1.0</td>\n",
       "    </tr>\n",
       "    <tr>\n",
       "      <th>4</th>\n",
       "      <td>Volume, t.o.v. voorgaande periode</td>\n",
       "      <td>1997 3e kwartaal</td>\n",
       "      <td>1.5</td>\n",
       "    </tr>\n",
       "    <tr>\n",
       "      <th>...</th>\n",
       "      <td>...</td>\n",
       "      <td>...</td>\n",
       "      <td>...</td>\n",
       "    </tr>\n",
       "    <tr>\n",
       "      <th>75</th>\n",
       "      <td>Volume, t.o.v. voorgaande periode</td>\n",
       "      <td>2015 2e kwartaal</td>\n",
       "      <td>0.3</td>\n",
       "    </tr>\n",
       "    <tr>\n",
       "      <th>76</th>\n",
       "      <td>Volume, t.o.v. voorgaande periode</td>\n",
       "      <td>2015 3e kwartaal</td>\n",
       "      <td>0.3</td>\n",
       "    </tr>\n",
       "    <tr>\n",
       "      <th>77</th>\n",
       "      <td>Volume, t.o.v. voorgaande periode</td>\n",
       "      <td>2015 4e kwartaal</td>\n",
       "      <td>0.0</td>\n",
       "    </tr>\n",
       "    <tr>\n",
       "      <th>78</th>\n",
       "      <td>Volume, t.o.v. voorgaande periode</td>\n",
       "      <td>2016 1e kwartaal</td>\n",
       "      <td>0.9</td>\n",
       "    </tr>\n",
       "    <tr>\n",
       "      <th>79</th>\n",
       "      <td>Volume, t.o.v. voorgaande periode</td>\n",
       "      <td>2016 2e kwartaal</td>\n",
       "      <td>0.2</td>\n",
       "    </tr>\n",
       "  </tbody>\n",
       "</table>\n",
       "<p>80 rows × 3 columns</p>\n",
       "</div>"
      ],
      "text/plain": [
       "                       Soort mutaties          Perioden  \\\n",
       "0   Volume, t.o.v. voorgaande periode  1996 3e kwartaal   \n",
       "1   Volume, t.o.v. voorgaande periode  1996 4e kwartaal   \n",
       "2   Volume, t.o.v. voorgaande periode  1997 1e kwartaal   \n",
       "3   Volume, t.o.v. voorgaande periode  1997 2e kwartaal   \n",
       "4   Volume, t.o.v. voorgaande periode  1997 3e kwartaal   \n",
       "..                                ...               ...   \n",
       "75  Volume, t.o.v. voorgaande periode  2015 2e kwartaal   \n",
       "76  Volume, t.o.v. voorgaande periode  2015 3e kwartaal   \n",
       "77  Volume, t.o.v. voorgaande periode  2015 4e kwartaal   \n",
       "78  Volume, t.o.v. voorgaande periode  2016 1e kwartaal   \n",
       "79  Volume, t.o.v. voorgaande periode  2016 2e kwartaal   \n",
       "\n",
       "    Opbouw bbp vanuit de finale bestedingen/Beschikbaar voor finale bestedingen/Bruto binnenlands product (%)  \n",
       "0                                                 1.4                                                          \n",
       "1                                                 0.7                                                          \n",
       "2                                                 1.1                                                          \n",
       "3                                                 1.0                                                          \n",
       "4                                                 1.5                                                          \n",
       "..                                                ...                                                          \n",
       "75                                                0.3                                                          \n",
       "76                                                0.3                                                          \n",
       "77                                                0.0                                                          \n",
       "78                                                0.9                                                          \n",
       "79                                                0.2                                                          \n",
       "\n",
       "[80 rows x 3 columns]"
      ]
     },
     "execution_count": 28,
     "metadata": {},
     "output_type": "execute_result"
    }
   ],
   "source": [
    "df = pd.read_csv('statistics_CBS/Bbp__kwartalen__mutaties_04052022_121623.csv', delimiter=\";\")\n",
    "df.head(-10)"
   ]
  },
  {
   "cell_type": "code",
   "execution_count": 10,
   "metadata": {},
   "outputs": [],
   "source": [
    "GDP_g = df[\"Opbouw bbp vanuit de finale bestedingen/Beschikbaar voor finale bestedingen/Bruto binnenlands product (%)\"].to_numpy()"
   ]
  },
  {
   "cell_type": "code",
   "execution_count": 38,
   "metadata": {},
   "outputs": [],
   "source": [
    "def compute_moments_autocorr(data, name):\n",
    "    print(\"Moments:\")\n",
    "    print(f\"    {name} first moment: {round(np.mean(data),3)}%\")\n",
    "    print(f\"    {name} second moment: {round(np.var(data),3)}\")\n",
    "    print(f\"    {name} third moment: {round(stats.skew(data),3)}\")\n",
    "    print(f\"    {name} fourth moment: {round(stats.kurtosis(data),3)}\")\n",
    "    print()\n",
    "\n",
    "    print(\"Autocorrelations:\")\n",
    "    autocorr_1 = stats.pearsonr(data[:-1], data[1:])\n",
    "    print(f\"    {name} autocorrelation 1st: {round(autocorr_1[0],3)}, pval: {round(autocorr_1[1], 3)}\")\n",
    "    autocorr_2 = stats.pearsonr(data[:-2], data[2:])\n",
    "    print(f\"    {name} autocorrelation 2nd: {round(autocorr_2[0],3)}, pval: {round(autocorr_2[1], 3)}\")\n",
    "    autocorr_3 = stats.pearsonr(data[:-3], data[3:])\n",
    "    print(f\"    {name} autocorrelation 3rd: {round(autocorr_3[0],3)}, pval: {round(autocorr_3[1], 3)}\")"
   ]
  },
  {
   "cell_type": "code",
   "execution_count": 39,
   "metadata": {},
   "outputs": [
    {
     "name": "stdout",
     "output_type": "stream",
     "text": [
      "Moments:\n",
      "    GDP growth first moment: 0.482%\n",
      "    GDP growth second moment: 0.47\n",
      "    GDP growth third moment: -2.272\n",
      "    GDP growth fourth moment: 11.945\n",
      "\n",
      "Autocorrelations:\n",
      "    GDP growth autocorrelation 1st: 0.464, pval: 0.0\n",
      "    GDP growth autocorrelation 2nd: 0.372, pval: 0.0\n",
      "    GDP growth autocorrelation 3rd: 0.232, pval: 0.03\n"
     ]
    }
   ],
   "source": [
    "compute_moments_autocorr(GDP_g, \"GDP growth\")"
   ]
  },
  {
   "cell_type": "markdown",
   "metadata": {},
   "source": [
    "## Unemployment Rate"
   ]
  },
  {
   "cell_type": "code",
   "execution_count": 33,
   "metadata": {},
   "outputs": [
    {
     "data": {
      "text/html": [
       "<div>\n",
       "<style scoped>\n",
       "    .dataframe tbody tr th:only-of-type {\n",
       "        vertical-align: middle;\n",
       "    }\n",
       "\n",
       "    .dataframe tbody tr th {\n",
       "        vertical-align: top;\n",
       "    }\n",
       "\n",
       "    .dataframe thead th {\n",
       "        text-align: right;\n",
       "    }\n",
       "</style>\n",
       "<table border=\"1\" class=\"dataframe\">\n",
       "  <thead>\n",
       "    <tr style=\"text-align: right;\">\n",
       "      <th></th>\n",
       "      <th>Geslacht</th>\n",
       "      <th>Leeftijd</th>\n",
       "      <th>Perioden</th>\n",
       "      <th>Werkloosheidspercentage/Seizoengecorrigeerd (%)</th>\n",
       "    </tr>\n",
       "  </thead>\n",
       "  <tbody>\n",
       "    <tr>\n",
       "      <th>0</th>\n",
       "      <td>Totaal</td>\n",
       "      <td>15 tot 75 jaar</td>\n",
       "      <td>2003 1e kwartaal</td>\n",
       "      <td>5.4</td>\n",
       "    </tr>\n",
       "    <tr>\n",
       "      <th>1</th>\n",
       "      <td>Totaal</td>\n",
       "      <td>15 tot 75 jaar</td>\n",
       "      <td>2003 2e kwartaal</td>\n",
       "      <td>5.8</td>\n",
       "    </tr>\n",
       "    <tr>\n",
       "      <th>2</th>\n",
       "      <td>Totaal</td>\n",
       "      <td>15 tot 75 jaar</td>\n",
       "      <td>2003 3e kwartaal</td>\n",
       "      <td>6.1</td>\n",
       "    </tr>\n",
       "    <tr>\n",
       "      <th>3</th>\n",
       "      <td>Totaal</td>\n",
       "      <td>15 tot 75 jaar</td>\n",
       "      <td>2003 4e kwartaal</td>\n",
       "      <td>6.4</td>\n",
       "    </tr>\n",
       "    <tr>\n",
       "      <th>4</th>\n",
       "      <td>Totaal</td>\n",
       "      <td>15 tot 75 jaar</td>\n",
       "      <td>2004 1e kwartaal</td>\n",
       "      <td>6.6</td>\n",
       "    </tr>\n",
       "  </tbody>\n",
       "</table>\n",
       "</div>"
      ],
      "text/plain": [
       "  Geslacht        Leeftijd          Perioden  \\\n",
       "0   Totaal  15 tot 75 jaar  2003 1e kwartaal   \n",
       "1   Totaal  15 tot 75 jaar  2003 2e kwartaal   \n",
       "2   Totaal  15 tot 75 jaar  2003 3e kwartaal   \n",
       "3   Totaal  15 tot 75 jaar  2003 4e kwartaal   \n",
       "4   Totaal  15 tot 75 jaar  2004 1e kwartaal   \n",
       "\n",
       "   Werkloosheidspercentage/Seizoengecorrigeerd (%)  \n",
       "0                                              5.4  \n",
       "1                                              5.8  \n",
       "2                                              6.1  \n",
       "3                                              6.4  \n",
       "4                                              6.6  "
      ]
     },
     "execution_count": 33,
     "metadata": {},
     "output_type": "execute_result"
    }
   ],
   "source": [
    "df = pd.read_csv(\"statistics_CBS/Arbeidsdeelname_per_maand__05072022_141822.csv\", delimiter=';')\n",
    "df.head()"
   ]
  },
  {
   "cell_type": "code",
   "execution_count": 34,
   "metadata": {},
   "outputs": [],
   "source": [
    "Unemp_rates = df['Werkloosheidspercentage/Seizoengecorrigeerd (%)'].to_numpy()"
   ]
  },
  {
   "cell_type": "code",
   "execution_count": 40,
   "metadata": {},
   "outputs": [
    {
     "name": "stdout",
     "output_type": "stream",
     "text": [
      "Moments:\n",
      "    unemployment rate first moment: 6.097%\n",
      "    unemployment rate second moment: 1.538\n",
      "    unemployment rate third moment: 0.279\n",
      "    unemployment rate fourth moment: -0.767\n",
      "\n",
      "Autocorrelations:\n",
      "    unemployment rate autocorrelation 1st: 0.974, pval: 0.0\n",
      "    unemployment rate autocorrelation 2nd: 0.921, pval: 0.0\n",
      "    unemployment rate autocorrelation 3rd: 0.857, pval: 0.0\n"
     ]
    }
   ],
   "source": [
    "compute_moments_autocorr(Unemp_rates, \"unemployment rate\")"
   ]
  },
  {
   "cell_type": "code",
   "execution_count": 41,
   "metadata": {},
   "outputs": [],
   "source": [
    "Unemp_rates_change = 100 * (Unemp_rates[1:] - Unemp_rates[:-1]) / Unemp_rates[:-1]"
   ]
  },
  {
   "cell_type": "code",
   "execution_count": 42,
   "metadata": {},
   "outputs": [
    {
     "name": "stdout",
     "output_type": "stream",
     "text": [
      "Moments:\n",
      "    unemployment rate change first moment: -0.338%\n",
      "    unemployment rate change second moment: 26.683\n",
      "    unemployment rate change third moment: 1.066\n",
      "    unemployment rate change fourth moment: 2.138\n",
      "\n",
      "Autocorrelations:\n",
      "    unemployment rate change autocorrelation 1st: 0.462, pval: 0.0\n",
      "    unemployment rate change autocorrelation 2nd: 0.109, pval: 0.36\n",
      "    unemployment rate change autocorrelation 3rd: 0.181, pval: 0.129\n"
     ]
    }
   ],
   "source": [
    "compute_moments_autocorr(Unemp_rates_change, \"unemployment rate change\")"
   ]
  },
  {
   "cell_type": "code",
   "execution_count": 59,
   "metadata": {},
   "outputs": [
    {
     "name": "stdout",
     "output_type": "stream",
     "text": [
      "corr GDP UR change: 0.18219323155701653, pval: 0.15296162476879224\n"
     ]
    }
   ],
   "source": [
    "# Compute correlation between GDP growth and unemployment rate\n",
    "GDP_UR_corr = stats.pearsonr(Unemp_rates[:63], GDP_g[27:])\n",
    "print(f\"corr GDP UR change: {GDP_UR_corr[0]}, pval: {GDP_UR_corr[1]}\")"
   ]
  },
  {
   "cell_type": "code",
   "execution_count": 60,
   "metadata": {},
   "outputs": [
    {
     "name": "stdout",
     "output_type": "stream",
     "text": [
      "corr GDP dUR change: -0.5095619500299846, pval: 1.7048155065202144e-05\n"
     ]
    }
   ],
   "source": [
    "# Compute correlation between GDP growth and unemployment change\n",
    "GDP_dUR_corr = stats.pearsonr(Unemp_rates_change[:64], GDP_g[26:])\n",
    "print(f\"corr GDP dUR change: {GDP_dUR_corr[0]}, pval: {GDP_dUR_corr[1]}\")"
   ]
  },
  {
   "cell_type": "code",
   "execution_count": null,
   "metadata": {},
   "outputs": [],
   "source": []
  }
 ],
 "metadata": {
  "kernelspec": {
   "display_name": "Python 3.8.10 64-bit",
   "language": "python",
   "name": "python3"
  },
  "language_info": {
   "codemirror_mode": {
    "name": "ipython",
    "version": 3
   },
   "file_extension": ".py",
   "mimetype": "text/x-python",
   "name": "python",
   "nbconvert_exporter": "python",
   "pygments_lexer": "ipython3",
   "version": "3.8.10"
  },
  "orig_nbformat": 4,
  "vscode": {
   "interpreter": {
    "hash": "31f2aee4e71d21fbe5cf8b01ff0e069b9275f58929596ceb00d14d90e3e16cd6"
   }
  }
 },
 "nbformat": 4,
 "nbformat_minor": 2
}
