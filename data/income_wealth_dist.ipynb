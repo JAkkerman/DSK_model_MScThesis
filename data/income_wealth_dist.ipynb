{
 "cells": [
  {
   "cell_type": "markdown",
   "metadata": {},
   "source": [
    "## Fit income distribution."
   ]
  },
  {
   "cell_type": "code",
   "execution_count": 1,
   "metadata": {},
   "outputs": [],
   "source": [
    "import scipy.stats as stats\n",
    "import pandas as pd\n",
    "import numpy as np\n",
    "import matplotlib.pyplot as plt"
   ]
  },
  {
   "cell_type": "code",
   "execution_count": 2,
   "metadata": {},
   "outputs": [],
   "source": [
    "# plt.rcParams.update({\n",
    "#     \"text.usetex\": True,\n",
    "#     \"font.family\": \"serif\",\n",
    "#     \"font.serif\": [\"Computer Modern Roman\"]})"
   ]
  },
  {
   "cell_type": "code",
   "execution_count": 3,
   "metadata": {},
   "outputs": [
    {
     "data": {
      "text/html": [
       "<div>\n",
       "<style scoped>\n",
       "    .dataframe tbody tr th:only-of-type {\n",
       "        vertical-align: middle;\n",
       "    }\n",
       "\n",
       "    .dataframe tbody tr th {\n",
       "        vertical-align: top;\n",
       "    }\n",
       "\n",
       "    .dataframe thead th {\n",
       "        text-align: right;\n",
       "    }\n",
       "</style>\n",
       "<table border=\"1\" class=\"dataframe\">\n",
       "  <thead>\n",
       "    <tr style=\"text-align: right;\">\n",
       "      <th></th>\n",
       "      <th>Inkomensgroep</th>\n",
       "      <th>Alle huishoudens</th>\n",
       "    </tr>\n",
       "  </thead>\n",
       "  <tbody>\n",
       "    <tr>\n",
       "      <th>0</th>\n",
       "      <td>tussen -6 en -4 dzd euro</td>\n",
       "      <td>1.0</td>\n",
       "    </tr>\n",
       "    <tr>\n",
       "      <th>1</th>\n",
       "      <td>tussen -4 en -2 dzd euro</td>\n",
       "      <td>2.0</td>\n",
       "    </tr>\n",
       "    <tr>\n",
       "      <th>2</th>\n",
       "      <td>tussen -2 en 0 dzd euro</td>\n",
       "      <td>33.0</td>\n",
       "    </tr>\n",
       "    <tr>\n",
       "      <th>3</th>\n",
       "      <td>tussen 0 en 2 dzd euro</td>\n",
       "      <td>46.0</td>\n",
       "    </tr>\n",
       "    <tr>\n",
       "      <th>4</th>\n",
       "      <td>tussen 2 en 4 dzd euro</td>\n",
       "      <td>52.0</td>\n",
       "    </tr>\n",
       "  </tbody>\n",
       "</table>\n",
       "</div>"
      ],
      "text/plain": [
       "              Inkomensgroep  Alle huishoudens\n",
       "0  tussen -6 en -4 dzd euro               1.0\n",
       "1  tussen -4 en -2 dzd euro               2.0\n",
       "2   tussen -2 en 0 dzd euro              33.0\n",
       "3    tussen 0 en 2 dzd euro              46.0\n",
       "4    tussen 2 en 4 dzd euro              52.0"
      ]
     },
     "execution_count": 3,
     "metadata": {},
     "output_type": "execute_result"
    }
   ],
   "source": [
    "df_income = pd.read_csv('statistics_CBS/Verdeling van gestandaardiseerd inkomen, 2020 (x 1 000 huishoudens).csv', \n",
    "                        delimiter=';')\n",
    "df_income.head()"
   ]
  },
  {
   "cell_type": "code",
   "execution_count": 4,
   "metadata": {},
   "outputs": [
    {
     "name": "stdout",
     "output_type": "stream",
     "text": [
      "[ -4000  -2000      0   2000   4000   6000   8000  10000  12000  14000\n",
      "  16000  18000  20000  22000  24000  26000  28000  30000  32000  34000\n",
      "  36000  38000  40000  42000  44000  46000  48000  50000  52000  54000\n",
      "  56000  58000  60000  62000  64000  66000  68000  70000  72000  74000\n",
      "  76000  78000  80000  82000  84000  86000  88000  90000  92000  94000\n",
      "  96000  98000 100000]\n",
      "[-6000 -4000 -2000     0  2000  4000  6000  8000 10000 12000 14000 16000\n",
      " 18000 20000 22000 24000 26000 28000 30000 32000 34000 36000 38000 40000\n",
      " 42000 44000 46000 48000 50000 52000 54000 56000 58000 60000 62000 64000\n",
      " 66000 68000 70000 72000 74000 76000 78000 80000 82000 84000 86000 88000\n",
      " 90000 92000 94000 96000 98000]\n"
     ]
    }
   ],
   "source": [
    "# income_range_l = np.arange(0, 50000, 10000)\n",
    "# income_range_l = np.append(income_range_l, [50000, 100000, 200001])\n",
    "# income_range_u = np.arange(10000, 60000, 10000)\n",
    "# income_range_u = np.append(income_range_u, [100000, 200000, 300000])\n",
    "income_range_l = np.arange(-6000, int(1e5), 2000)\n",
    "income_range_u = np.arange(-4000, int(1e5)+2000, 2000)\n",
    "print(income_range_u)\n",
    "print(income_range_l)"
   ]
  },
  {
   "cell_type": "code",
   "execution_count": 5,
   "metadata": {},
   "outputs": [
    {
     "name": "stdout",
     "output_type": "stream",
     "text": [
      "[  1.   2.  33.  46.  52.  56.  59.  66.  84. 179. 368. 425. 462. 539.\n",
      " 495. 464. 467. 460. 441. 417. 388. 348. 303. 261. 223. 188. 158. 132.\n",
      " 110.  90.  75.  62.  52.  43.  36.  31.  26.  22.  19.  17.  15.  13.\n",
      "  11.  10.   9.   8.   7.   7.   6.   5.   5.   4.   4.]\n"
     ]
    }
   ],
   "source": [
    "incomes = df_income['Alle huishoudens'].to_numpy()[:-1]\n",
    "print(incomes)\n",
    "incomes_norm = incomes / sum(incomes)"
   ]
  },
  {
   "cell_type": "code",
   "execution_count": 6,
   "metadata": {},
   "outputs": [
    {
     "data": {
      "image/png": "[encoded data removed]",
      "text/plain": [
       "<Figure size 432x288 with 1 Axes>"
      ]
     },
     "metadata": {
      "needs_background": "light"
     },
     "output_type": "display_data"
    }
   ],
   "source": [
    "for i,(u,l) in enumerate(zip(income_range_l, income_range_u)):\n",
    "    plt.bar(x=(u+l)/2, height=incomes_norm[i], width=l-u)\n",
    "\n",
    "plt.show()"
   ]
  },
  {
   "cell_type": "code",
   "execution_count": 7,
   "metadata": {},
   "outputs": [],
   "source": [
    "# income_range_l_full = np.arange(0, 300000, 10000)\n",
    "# income_range_u_full = np.arange(10000, 310000, 10000)"
   ]
  },
  {
   "cell_type": "code",
   "execution_count": 8,
   "metadata": {},
   "outputs": [],
   "source": [
    "# incomes_norm_full = np.insert(incomes_norm, 5, [incomes_norm[5] for _ in range(4)])\n",
    "# incomes_norm_full = np.insert(incomes_norm_full, 10, [incomes_norm[6] for _ in range(9)])\n",
    "# incomes_norm_full = np.insert(incomes_norm_full, 21, [incomes_norm[7] for _ in range(9)])"
   ]
  },
  {
   "cell_type": "code",
   "execution_count": 9,
   "metadata": {},
   "outputs": [],
   "source": [
    "# for i,(u,l) in enumerate(zip(income_range_l_full, income_range_u_full)):\n",
    "#     plt.bar(x=(u+l)/2, height=incomes_norm_full[i], width=l-u)\n",
    "# plt.show()"
   ]
  },
  {
   "cell_type": "code",
   "execution_count": 36,
   "metadata": {},
   "outputs": [],
   "source": [
    "n_in_sample = 1e5\n",
    "\n",
    "sample_full = []\n",
    "sample = []\n",
    "\n",
    "# Filter out all incomes below 10000, as these are below the level of the bijstandsuitkering.\n",
    "\n",
    "for frac, l, u in zip(incomes_norm, income_range_l, income_range_u):\n",
    "    for _ in range(int(n_in_sample * frac)):\n",
    "            sample_full.append((l + u) / 2)\n",
    "    if l > 10000:\n",
    "        for _ in range(int(n_in_sample * frac)):\n",
    "            sample.append((l + u) / 2)\n",
    "\n"
   ]
  },
  {
   "cell_type": "code",
   "execution_count": 37,
   "metadata": {},
   "outputs": [
    {
     "data": {
      "image/png": "[encoded data removed]",
      "text/plain": [
       "<Figure size 640x480 with 1 Axes>"
      ]
     },
     "metadata": {},
     "output_type": "display_data"
    }
   ],
   "source": [
    "plt.hist(sample, bins=43, density=True)\n",
    "plt.show()"
   ]
  },
  {
   "cell_type": "code",
   "execution_count": 38,
   "metadata": {},
   "outputs": [
    {
     "data": {
      "image/png": "[encoded data removed]",
      "text/plain": [
       "<Figure size 640x480 with 1 Axes>"
      ]
     },
     "metadata": {},
     "output_type": "display_data"
    }
   ],
   "source": [
    "plt.hist(sample_full, bins=52, density=True)\n",
    "plt.show()"
   ]
  },
  {
   "cell_type": "code",
   "execution_count": 39,
   "metadata": {},
   "outputs": [],
   "source": [
    "# Fit the lognormal distribution\n",
    "sigma, loc, scale = stats.lognorm.fit(sample, floc=0)"
   ]
  },
  {
   "cell_type": "code",
   "execution_count": 40,
   "metadata": {},
   "outputs": [
    {
     "name": "stdout",
     "output_type": "stream",
     "text": [
      "sigma: 0.40578845823109533, loc: 0.0, scale: 29191.575232030875\n"
     ]
    }
   ],
   "source": [
    "print(f\"sigma: {sigma}, loc: {loc}, scale: {scale}\")"
   ]
  },
  {
   "cell_type": "code",
   "execution_count": 41,
   "metadata": {},
   "outputs": [
    {
     "data": {
      "image/png": "[encoded data removed]",
      "text/plain": [
       "<Figure size 500x400 with 1 Axes>"
      ]
     },
     "metadata": {},
     "output_type": "display_data"
    }
   ],
   "source": [
    "plt.figure(figsize=(5,4))\n",
    "\n",
    "x = np.linspace(0, int(1e5), int(1e4))\n",
    "dist = stats.lognorm(s=sigma, loc=loc, scale=scale)\n",
    "\n",
    "plt.plot(x, dist.pdf(x), color='red', label='fitted pdf')\n",
    "plt.hist(sample, bins=43, density=True, color='blue', alpha=.5, label='data')\n",
    "plt.xlabel('Income')\n",
    "plt.ylabel('Density')\n",
    "plt.title('(Fitted) income distribution')\n",
    "plt.legend()\n",
    "plt.tight_layout()\n",
    "plt.show()"
   ]
  },
  {
   "cell_type": "markdown",
   "metadata": {},
   "source": [
    "### Skill distribution now follows the fitted income distribution"
   ]
  },
  {
   "cell_type": "code",
   "execution_count": 58,
   "metadata": {},
   "outputs": [],
   "source": [
    "# hh_incomes = np.array([])\n",
    "# while len(hh_incomes) < 2500:\n",
    "#     s = dist.rvs()\n",
    "#     if s < 2e5:\n",
    "#         # hh_incomes.append(s)\n",
    "#         hh_incomes = np.append(hh_incomes, s)\n",
    "hh_incomes = dist.rvs(size=2500)"
   ]
  },
  {
   "cell_type": "code",
   "execution_count": 59,
   "metadata": {},
   "outputs": [],
   "source": [
    "hh_skills = 2500 * hh_incomes / sum(hh_incomes)"
   ]
  },
  {
   "cell_type": "code",
   "execution_count": 60,
   "metadata": {},
   "outputs": [
    {
     "data": {
      "image/png": "[encoded data removed]",
      "text/plain": [
       "<Figure size 640x480 with 1 Axes>"
      ]
     },
     "metadata": {},
     "output_type": "display_data"
    }
   ],
   "source": [
    "plt.hist(hh_skills, bins=100)\n",
    "plt.show()"
   ]
  },
  {
   "cell_type": "code",
   "execution_count": 61,
   "metadata": {},
   "outputs": [],
   "source": [
    "import matplotlib as mpl\n",
    "mpl.rcParams.update(mpl.rcParamsDefault)"
   ]
  },
  {
   "cell_type": "code",
   "execution_count": 64,
   "metadata": {},
   "outputs": [
    {
     "data": {
      "image/png": "[encoded data removed]",
      "text/plain": [
       "<Figure size 700x300 with 2 Axes>"
      ]
     },
     "metadata": {},
     "output_type": "display_data"
    }
   ],
   "source": [
    "fig, ax = plt.subplots(1, 2, figsize=(7,3))\n",
    "\n",
    "plt.rc('text', usetex=True)\n",
    "plt.rc('font', family='serif')\n",
    "\n",
    "x = np.linspace(0, 1e5, int(1e4))\n",
    "dist = stats.lognorm(s=sigma, loc=loc, scale=scale)\n",
    "\n",
    "ax[0].plot(x, dist.pdf(x), color='red', label=r'fitted pdf')\n",
    "ax[0].hist(sample, bins=43, density=True, color='blue', alpha=.5, label='data')\n",
    "ax[0].set_xlabel('income')\n",
    "ax[0].set_ylabel('density')\n",
    "ax[0].set_title('(a) Income distribution')\n",
    "ax[0].legend()\n",
    "\n",
    "ax[1].hist(hh_skills, bins=100, color='green')\n",
    "ax[1].set_title('(b) Skill distribution')\n",
    "ax[1].set_xlabel('skill level')\n",
    "ax[1].set_ylabel('amount of households')\n",
    "\n",
    "plt.tight_layout()\n",
    "# plt.show()\n",
    "plt.savefig('../plotting/plots/income_skill.pdf')"
   ]
  },
  {
   "cell_type": "markdown",
   "metadata": {},
   "source": [
    "## Wealth Distribution"
   ]
  },
  {
   "cell_type": "code",
   "execution_count": 21,
   "metadata": {},
   "outputs": [
    {
     "data": {
      "text/html": [
       "<div>\n",
       "<style scoped>\n",
       "    .dataframe tbody tr th:only-of-type {\n",
       "        vertical-align: middle;\n",
       "    }\n",
       "\n",
       "    .dataframe tbody tr th {\n",
       "        vertical-align: top;\n",
       "    }\n",
       "\n",
       "    .dataframe thead th {\n",
       "        text-align: right;\n",
       "    }\n",
       "</style>\n",
       "<table border=\"1\" class=\"dataframe\">\n",
       "  <thead>\n",
       "    <tr style=\"text-align: right;\">\n",
       "      <th></th>\n",
       "      <th>Kenmerken van huishoudens</th>\n",
       "      <th>Vermogensklassen</th>\n",
       "      <th>Perioden</th>\n",
       "      <th>Particuliere huishoudens (x 1 000)</th>\n",
       "    </tr>\n",
       "  </thead>\n",
       "  <tbody>\n",
       "    <tr>\n",
       "      <th>0</th>\n",
       "      <td>Particuliere huishoudens</td>\n",
       "      <td>Vermogen: tot -5 000 euro</td>\n",
       "      <td>2018</td>\n",
       "      <td>949.8</td>\n",
       "    </tr>\n",
       "    <tr>\n",
       "      <th>1</th>\n",
       "      <td>Particuliere huishoudens</td>\n",
       "      <td>Vermogen: -5 000 tot 0 euro</td>\n",
       "      <td>2018</td>\n",
       "      <td>472.0</td>\n",
       "    </tr>\n",
       "    <tr>\n",
       "      <th>2</th>\n",
       "      <td>Particuliere huishoudens</td>\n",
       "      <td>Vermogen: 0 tot 1 000 euro</td>\n",
       "      <td>2018</td>\n",
       "      <td>422.1</td>\n",
       "    </tr>\n",
       "    <tr>\n",
       "      <th>3</th>\n",
       "      <td>Particuliere huishoudens</td>\n",
       "      <td>Vermogen 1 000 tot 5 000 euro</td>\n",
       "      <td>2018</td>\n",
       "      <td>637.9</td>\n",
       "    </tr>\n",
       "    <tr>\n",
       "      <th>4</th>\n",
       "      <td>Particuliere huishoudens</td>\n",
       "      <td>Vermogen: 5 000 tot 10 000 euro</td>\n",
       "      <td>2018</td>\n",
       "      <td>359.0</td>\n",
       "    </tr>\n",
       "  </tbody>\n",
       "</table>\n",
       "</div>"
      ],
      "text/plain": [
       "  Kenmerken van huishoudens                 Vermogensklassen  Perioden  \\\n",
       "0  Particuliere huishoudens        Vermogen: tot -5 000 euro      2018   \n",
       "1  Particuliere huishoudens      Vermogen: -5 000 tot 0 euro      2018   \n",
       "2  Particuliere huishoudens       Vermogen: 0 tot 1 000 euro      2018   \n",
       "3  Particuliere huishoudens    Vermogen 1 000 tot 5 000 euro      2018   \n",
       "4  Particuliere huishoudens  Vermogen: 5 000 tot 10 000 euro      2018   \n",
       "\n",
       "   Particuliere huishoudens (x 1 000)  \n",
       "0                               949.8  \n",
       "1                               472.0  \n",
       "2                               422.1  \n",
       "3                               637.9  \n",
       "4                               359.0  "
      ]
     },
     "execution_count": 21,
     "metadata": {},
     "output_type": "execute_result"
    }
   ],
   "source": [
    "df_wealth = pd.read_csv('statistics_CBS/Vermogen_huishoudens__vermogensklassen_02052022_222329.csv', \n",
    "                        delimiter=';')\n",
    "df_wealth.head()\n",
    "# print(df_wealth['Vermogensklassen'])"
   ]
  },
  {
   "cell_type": "code",
   "execution_count": 22,
   "metadata": {},
   "outputs": [],
   "source": [
    "wealth_range_l = np.array([-10000, -5000, 0, 1000, 5000, 10000, 20000, 50000, 100000, 200000, 500000, 1000000])\n",
    "wealth_range_u = np.array([-5000, 0, 1000, 5000, 10000, 20000, 50000, 100000, 200000, 500000, 1000000, 1500000])"
   ]
  },
  {
   "cell_type": "code",
   "execution_count": 23,
   "metadata": {},
   "outputs": [],
   "source": [
    "wealth_norm = df_wealth['Particuliere huishoudens (x 1 000)'].to_numpy() / (wealth_range_u - wealth_range_l)"
   ]
  },
  {
   "cell_type": "code",
   "execution_count": 24,
   "metadata": {},
   "outputs": [
    {
     "data": {
      "image/png": "[encoded data removed]",
      "text/plain": [
       "<Figure size 1000x400 with 1 Axes>"
      ]
     },
     "metadata": {},
     "output_type": "display_data"
    }
   ],
   "source": [
    "fig = plt.figure(figsize=(10,4))\n",
    "\n",
    "for i,(u,l) in enumerate(zip(wealth_range_l, wealth_range_u)):\n",
    "    plt.bar(x=(u+l)/2, height=wealth_norm[i], width=l-u)\n",
    "\n",
    "# plt.xscale('log')\n",
    "# plt.yscale('log')\n",
    "plt.show()"
   ]
  },
  {
   "cell_type": "code",
   "execution_count": null,
   "metadata": {},
   "outputs": [],
   "source": []
  }
 ],
 "metadata": {
  "interpreter": {
   "hash": "31f2aee4e71d21fbe5cf8b01ff0e069b9275f58929596ceb00d14d90e3e16cd6"
  },
  "kernelspec": {
   "display_name": "Python 3.8.10 64-bit",
   "language": "python",
   "name": "python3"
  },
  "language_info": {
   "codemirror_mode": {
    "name": "ipython",
    "version": 3
   },
   "file_extension": ".py",
   "mimetype": "text/x-python",
   "name": "python",
   "nbconvert_exporter": "python",
   "pygments_lexer": "ipython3",
   "version": "3.8.10"
  },
  "orig_nbformat": 4
 },
 "nbformat": 4,
 "nbformat_minor": 2
}
