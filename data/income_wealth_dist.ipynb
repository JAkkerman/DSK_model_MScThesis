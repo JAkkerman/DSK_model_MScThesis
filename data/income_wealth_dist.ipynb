{
 "cells": [
  {
   "cell_type": "markdown",
   "metadata": {},
   "source": [
    "## Fit income distribution."
   ]
  },
  {
   "cell_type": "code",
   "execution_count": 1,
   "metadata": {},
   "outputs": [],
   "source": [
    "import scipy.stats as stats\n",
    "import pandas as pd\n",
    "import numpy as np\n",
    "import matplotlib.pyplot as plt"
   ]
  },
  {
   "cell_type": "code",
   "execution_count": 2,
   "metadata": {},
   "outputs": [],
   "source": [
    "# plt.rcParams.update({\n",
    "#     \"text.usetex\": True,\n",
    "#     \"font.family\": \"serif\",\n",
    "#     \"font.serif\": [\"Computer Modern Roman\"]})"
   ]
  },
  {
   "cell_type": "code",
   "execution_count": 3,
   "metadata": {},
   "outputs": [
    {
     "data": {
      "text/html": [
       "<div>\n",
       "<style scoped>\n",
       "    .dataframe tbody tr th:only-of-type {\n",
       "        vertical-align: middle;\n",
       "    }\n",
       "\n",
       "    .dataframe tbody tr th {\n",
       "        vertical-align: top;\n",
       "    }\n",
       "\n",
       "    .dataframe thead th {\n",
       "        text-align: right;\n",
       "    }\n",
       "</style>\n",
       "<table border=\"1\" class=\"dataframe\">\n",
       "  <thead>\n",
       "    <tr style=\"text-align: right;\">\n",
       "      <th></th>\n",
       "      <th>Inkomensbegrippen</th>\n",
       "      <th>Inkomensklassen</th>\n",
       "      <th>Kenmerken van huishoudens</th>\n",
       "      <th>Perioden</th>\n",
       "      <th>Particuliere huishoudens (x 1 000)</th>\n",
       "    </tr>\n",
       "  </thead>\n",
       "  <tbody>\n",
       "    <tr>\n",
       "      <th>0</th>\n",
       "      <td>Besteedbaar inkomen</td>\n",
       "      <td>Inkomen: minder dan 10 000 euro</td>\n",
       "      <td>Particuliere huishoudens</td>\n",
       "      <td>2018</td>\n",
       "      <td>320.9</td>\n",
       "    </tr>\n",
       "    <tr>\n",
       "      <th>1</th>\n",
       "      <td>Besteedbaar inkomen</td>\n",
       "      <td>Inkomen: 10 000 tot 20 000 euro</td>\n",
       "      <td>Particuliere huishoudens</td>\n",
       "      <td>2018</td>\n",
       "      <td>1184.2</td>\n",
       "    </tr>\n",
       "    <tr>\n",
       "      <th>2</th>\n",
       "      <td>Besteedbaar inkomen</td>\n",
       "      <td>Inkomen: 20 000 tot 30 000 euro</td>\n",
       "      <td>Particuliere huishoudens</td>\n",
       "      <td>2018</td>\n",
       "      <td>1673.7</td>\n",
       "    </tr>\n",
       "    <tr>\n",
       "      <th>3</th>\n",
       "      <td>Besteedbaar inkomen</td>\n",
       "      <td>Inkomen: 30 000 tot 40 000 euro</td>\n",
       "      <td>Particuliere huishoudens</td>\n",
       "      <td>2018</td>\n",
       "      <td>1265.9</td>\n",
       "    </tr>\n",
       "    <tr>\n",
       "      <th>4</th>\n",
       "      <td>Besteedbaar inkomen</td>\n",
       "      <td>Inkomen: 40 000 tot 50 000 euro</td>\n",
       "      <td>Particuliere huishoudens</td>\n",
       "      <td>2018</td>\n",
       "      <td>1006.1</td>\n",
       "    </tr>\n",
       "  </tbody>\n",
       "</table>\n",
       "</div>"
      ],
      "text/plain": [
       "     Inkomensbegrippen                  Inkomensklassen  \\\n",
       "0  Besteedbaar inkomen  Inkomen: minder dan 10 000 euro   \n",
       "1  Besteedbaar inkomen  Inkomen: 10 000 tot 20 000 euro   \n",
       "2  Besteedbaar inkomen  Inkomen: 20 000 tot 30 000 euro   \n",
       "3  Besteedbaar inkomen  Inkomen: 30 000 tot 40 000 euro   \n",
       "4  Besteedbaar inkomen  Inkomen: 40 000 tot 50 000 euro   \n",
       "\n",
       "  Kenmerken van huishoudens  Perioden  Particuliere huishoudens (x 1 000)  \n",
       "0  Particuliere huishoudens      2018                               320.9  \n",
       "1  Particuliere huishoudens      2018                              1184.2  \n",
       "2  Particuliere huishoudens      2018                              1673.7  \n",
       "3  Particuliere huishoudens      2018                              1265.9  \n",
       "4  Particuliere huishoudens      2018                              1006.1  "
      ]
     },
     "execution_count": 3,
     "metadata": {},
     "output_type": "execute_result"
    }
   ],
   "source": [
    "df_income = pd.read_csv('statistics_CBS/Inkomen_huishoudens__inkomensklassen_02052022_131156.csv', \n",
    "                        delimiter=';')\n",
    "df_income.head()"
   ]
  },
  {
   "cell_type": "code",
   "execution_count": 4,
   "metadata": {},
   "outputs": [],
   "source": [
    "income_range_l = np.arange(0, 50000, 10000)\n",
    "income_range_l = np.append(income_range_l, [50000, 100000, 200001])\n",
    "income_range_u = np.arange(10000, 60000, 10000)\n",
    "income_range_u = np.append(income_range_u, [100000, 200000, 300000])"
   ]
  },
  {
   "cell_type": "code",
   "execution_count": 5,
   "metadata": {},
   "outputs": [],
   "source": [
    "incomes = df_income['Particuliere huishoudens (x 1 000)'].to_numpy()\n",
    "incomes_norm = incomes / (income_range_u - income_range_l)\n"
   ]
  },
  {
   "cell_type": "code",
   "execution_count": 6,
   "metadata": {},
   "outputs": [
    {
     "data": {
      "image/png": "[encoded data removed]",
      "text/plain": [
       "<Figure size 432x288 with 1 Axes>"
      ]
     },
     "metadata": {
      "needs_background": "light"
     },
     "output_type": "display_data"
    }
   ],
   "source": [
    "for i,(u,l) in enumerate(zip(income_range_l, income_range_u)):\n",
    "    plt.bar(x=(u+l)/2, height=incomes_norm[i], width=l-u)\n",
    "\n",
    "plt.show()"
   ]
  },
  {
   "cell_type": "code",
   "execution_count": 7,
   "metadata": {},
   "outputs": [],
   "source": [
    "income_range_l_full = np.arange(0, 300000, 10000)\n",
    "income_range_u_full = np.arange(10000, 310000, 10000)"
   ]
  },
  {
   "cell_type": "code",
   "execution_count": 8,
   "metadata": {},
   "outputs": [],
   "source": [
    "incomes_norm_full = np.insert(incomes_norm, 5, [incomes_norm[5] for _ in range(4)])\n",
    "incomes_norm_full = np.insert(incomes_norm_full, 10, [incomes_norm[6] for _ in range(9)])\n",
    "incomes_norm_full = np.insert(incomes_norm_full, 21, [incomes_norm[7] for _ in range(9)])"
   ]
  },
  {
   "cell_type": "code",
   "execution_count": 9,
   "metadata": {},
   "outputs": [
    {
     "data": {
      "image/png": "[encoded data removed]",
      "text/plain": [
       "<Figure size 432x288 with 1 Axes>"
      ]
     },
     "metadata": {
      "needs_background": "light"
     },
     "output_type": "display_data"
    }
   ],
   "source": [
    "for i,(u,l) in enumerate(zip(income_range_l_full, income_range_u_full)):\n",
    "    plt.bar(x=(u+l)/2, height=incomes_norm_full[i], width=l-u)\n",
    "plt.show()"
   ]
  },
  {
   "cell_type": "code",
   "execution_count": 10,
   "metadata": {},
   "outputs": [
    {
     "data": {
      "image/png": "[encoded data removed]",
      "text/plain": [
       "<Figure size 432x288 with 1 Axes>"
      ]
     },
     "metadata": {
      "needs_background": "light"
     },
     "output_type": "display_data"
    }
   ],
   "source": [
    "n_in_sample = 1e5\n",
    "\n",
    "sample = []\n",
    "\n",
    "for frac, l, u in zip(incomes_norm_full, income_range_l_full, income_range_u_full):\n",
    "    for _ in range(int(n_in_sample * frac)):\n",
    "        sample.append((l + u) / 2)\n",
    "\n",
    "plt.hist(sample, bins=50, density=True)\n",
    "plt.show()"
   ]
  },
  {
   "cell_type": "code",
   "execution_count": 11,
   "metadata": {},
   "outputs": [],
   "source": [
    "# Fit the lognormal distribution\n",
    "sigma, loc, scale = stats.lognorm.fit(sample, floc=0)"
   ]
  },
  {
   "cell_type": "code",
   "execution_count": 12,
   "metadata": {},
   "outputs": [
    {
     "name": "stdout",
     "output_type": "stream",
     "text": [
      "sigma: 0.730962067882722, loc: 0.0, scale: 34922.801992160676\n"
     ]
    }
   ],
   "source": [
    "print(f\"sigma: {sigma}, loc: {loc}, scale: {scale}\")"
   ]
  },
  {
   "cell_type": "code",
   "execution_count": 13,
   "metadata": {},
   "outputs": [
    {
     "data": {
      "image/png": "[encoded data removed]",
      "text/plain": [
       "<Figure size 432x288 with 1 Axes>"
      ]
     },
     "metadata": {
      "needs_background": "light"
     },
     "output_type": "display_data"
    }
   ],
   "source": [
    "x = np.linspace(0, 300000, int(1e4))\n",
    "dist = stats.lognorm(s=sigma, loc=loc, scale=scale)\n",
    "\n",
    "plt.plot(x, dist.pdf(x), color='red', label='fitted pdf')\n",
    "plt.hist(sample, bins=30, density=True, color='blue', alpha=.5, label='data')\n",
    "plt.xlabel('Income')\n",
    "plt.ylabel('Density')\n",
    "plt.title('(Fitted) income distribution')\n",
    "plt.legend()\n",
    "plt.tight_layout()\n",
    "plt.show()"
   ]
  },
  {
   "cell_type": "markdown",
   "metadata": {},
   "source": [
    "### Skill distribution now follows the fitted income distribution"
   ]
  },
  {
   "cell_type": "code",
   "execution_count": 14,
   "metadata": {},
   "outputs": [],
   "source": [
    "hh_incomes = np.array([])\n",
    "while len(hh_incomes) < 2500:\n",
    "    s = dist.rvs()\n",
    "    if s < 2e5:\n",
    "        # hh_incomes.append(s)\n",
    "        hh_incomes = np.append(hh_incomes, s)"
   ]
  },
  {
   "cell_type": "code",
   "execution_count": 15,
   "metadata": {},
   "outputs": [],
   "source": [
    "hh_skills = 2500 * hh_incomes / sum(hh_incomes)"
   ]
  },
  {
   "cell_type": "code",
   "execution_count": 16,
   "metadata": {},
   "outputs": [
    {
     "data": {
      "image/png": "[encoded data removed]",
      "text/plain": [
       "<Figure size 432x288 with 1 Axes>"
      ]
     },
     "metadata": {
      "needs_background": "light"
     },
     "output_type": "display_data"
    }
   ],
   "source": [
    "plt.hist(hh_skills, bins=100)\n",
    "plt.show()"
   ]
  },
  {
   "cell_type": "code",
   "execution_count": 17,
   "metadata": {},
   "outputs": [],
   "source": [
    "import matplotlib as mpl\n",
    "mpl.rcParams.update(mpl.rcParamsDefault)"
   ]
  },
  {
   "cell_type": "code",
   "execution_count": 19,
   "metadata": {},
   "outputs": [
    {
     "data": {
      "image/png": "[encoded data removed]",
      "text/plain": [
       "<Figure size 700x300 with 2 Axes>"
      ]
     },
     "metadata": {},
     "output_type": "display_data"
    }
   ],
   "source": [
    "fig, ax = plt.subplots(1, 2, figsize=(7,3))\n",
    "\n",
    "plt.rc('text', usetex=True)\n",
    "plt.rc('font', family='serif')\n",
    "\n",
    "x = np.linspace(0, 300000, int(1e4))\n",
    "dist = stats.lognorm(s=sigma, loc=loc, scale=scale)\n",
    "\n",
    "ax[0].plot(x, dist.pdf(x), color='red', label=r'fitted pdf')\n",
    "ax[0].hist(sample, bins=30, density=True, color='blue', alpha=.5, label='data')\n",
    "ax[0].set_xlabel('Income')\n",
    "ax[0].set_ylabel('Density')\n",
    "ax[0].set_title('(Fitted) income distribution')\n",
    "ax[0].legend()\n",
    "\n",
    "ax[1].hist(hh_skills, bins=100, color='green')\n",
    "ax[1].set_title('Typical samples skill distribution')\n",
    "ax[1].set_xlabel('Skill level')\n",
    "ax[1].set_ylabel('Amount of households')\n",
    "\n",
    "plt.tight_layout()\n",
    "# plt.show()\n",
    "plt.savefig('../plotting/plots/income_skill.pdf')"
   ]
  },
  {
   "cell_type": "markdown",
   "metadata": {},
   "source": [
    "## Wealth Distribution"
   ]
  },
  {
   "cell_type": "code",
   "execution_count": 23,
   "metadata": {},
   "outputs": [
    {
     "data": {
      "text/html": [
       "<div>\n",
       "<style scoped>\n",
       "    .dataframe tbody tr th:only-of-type {\n",
       "        vertical-align: middle;\n",
       "    }\n",
       "\n",
       "    .dataframe tbody tr th {\n",
       "        vertical-align: top;\n",
       "    }\n",
       "\n",
       "    .dataframe thead th {\n",
       "        text-align: right;\n",
       "    }\n",
       "</style>\n",
       "<table border=\"1\" class=\"dataframe\">\n",
       "  <thead>\n",
       "    <tr style=\"text-align: right;\">\n",
       "      <th></th>\n",
       "      <th>Kenmerken van huishoudens</th>\n",
       "      <th>Vermogensklassen</th>\n",
       "      <th>Perioden</th>\n",
       "      <th>Particuliere huishoudens (x 1 000)</th>\n",
       "    </tr>\n",
       "  </thead>\n",
       "  <tbody>\n",
       "    <tr>\n",
       "      <th>0</th>\n",
       "      <td>Particuliere huishoudens</td>\n",
       "      <td>Vermogen: tot -5 000 euro</td>\n",
       "      <td>2018</td>\n",
       "      <td>949.8</td>\n",
       "    </tr>\n",
       "    <tr>\n",
       "      <th>1</th>\n",
       "      <td>Particuliere huishoudens</td>\n",
       "      <td>Vermogen: -5 000 tot 0 euro</td>\n",
       "      <td>2018</td>\n",
       "      <td>472.0</td>\n",
       "    </tr>\n",
       "    <tr>\n",
       "      <th>2</th>\n",
       "      <td>Particuliere huishoudens</td>\n",
       "      <td>Vermogen: 0 tot 1 000 euro</td>\n",
       "      <td>2018</td>\n",
       "      <td>422.1</td>\n",
       "    </tr>\n",
       "    <tr>\n",
       "      <th>3</th>\n",
       "      <td>Particuliere huishoudens</td>\n",
       "      <td>Vermogen 1 000 tot 5 000 euro</td>\n",
       "      <td>2018</td>\n",
       "      <td>637.9</td>\n",
       "    </tr>\n",
       "    <tr>\n",
       "      <th>4</th>\n",
       "      <td>Particuliere huishoudens</td>\n",
       "      <td>Vermogen: 5 000 tot 10 000 euro</td>\n",
       "      <td>2018</td>\n",
       "      <td>359.0</td>\n",
       "    </tr>\n",
       "  </tbody>\n",
       "</table>\n",
       "</div>"
      ],
      "text/plain": [
       "  Kenmerken van huishoudens                 Vermogensklassen  Perioden  \\\n",
       "0  Particuliere huishoudens        Vermogen: tot -5 000 euro      2018   \n",
       "1  Particuliere huishoudens      Vermogen: -5 000 tot 0 euro      2018   \n",
       "2  Particuliere huishoudens       Vermogen: 0 tot 1 000 euro      2018   \n",
       "3  Particuliere huishoudens    Vermogen 1 000 tot 5 000 euro      2018   \n",
       "4  Particuliere huishoudens  Vermogen: 5 000 tot 10 000 euro      2018   \n",
       "\n",
       "   Particuliere huishoudens (x 1 000)  \n",
       "0                               949.8  \n",
       "1                               472.0  \n",
       "2                               422.1  \n",
       "3                               637.9  \n",
       "4                               359.0  "
      ]
     },
     "execution_count": 23,
     "metadata": {},
     "output_type": "execute_result"
    }
   ],
   "source": [
    "df_wealth = pd.read_csv('statistics_CBS/Vermogen_huishoudens__vermogensklassen_02052022_222329.csv', \n",
    "                        delimiter=';')\n",
    "df_wealth.head()\n",
    "# print(df_wealth['Vermogensklassen'])"
   ]
  },
  {
   "cell_type": "code",
   "execution_count": 24,
   "metadata": {},
   "outputs": [],
   "source": [
    "wealth_range_l = np.array([-10000, -5000, 0, 1000, 5000, 10000, 20000, 50000, 100000, 200000, 500000, 1000000])\n",
    "wealth_range_u = np.array([-5000, 0, 1000, 5000, 10000, 20000, 50000, 100000, 200000, 500000, 1000000, 1500000])"
   ]
  },
  {
   "cell_type": "code",
   "execution_count": 25,
   "metadata": {},
   "outputs": [],
   "source": [
    "wealth_norm = df_wealth['Particuliere huishoudens (x 1 000)'].to_numpy() / (wealth_range_u - wealth_range_l)"
   ]
  },
  {
   "cell_type": "code",
   "execution_count": 32,
   "metadata": {},
   "outputs": [
    {
     "data": {
      "image/png": "[encoded data removed]",
      "text/plain": [
       "<Figure size 720x288 with 1 Axes>"
      ]
     },
     "metadata": {
      "needs_background": "light"
     },
     "output_type": "display_data"
    }
   ],
   "source": [
    "fig = plt.figure(figsize=(10,4))\n",
    "\n",
    "for i,(u,l) in enumerate(zip(wealth_range_l, wealth_range_u)):\n",
    "    plt.bar(x=(u+l)/2, height=wealth_norm[i], width=l-u)\n",
    "\n",
    "# plt.xscale('log')\n",
    "# plt.yscale('log')\n",
    "plt.show()"
   ]
  },
  {
   "cell_type": "code",
   "execution_count": null,
   "metadata": {},
   "outputs": [],
   "source": []
  }
 ],
 "metadata": {
  "interpreter": {
   "hash": "31f2aee4e71d21fbe5cf8b01ff0e069b9275f58929596ceb00d14d90e3e16cd6"
  },
  "kernelspec": {
   "display_name": "Python 3.8.10 64-bit",
   "language": "python",
   "name": "python3"
  },
  "language_info": {
   "codemirror_mode": {
    "name": "ipython",
    "version": 3
   },
   "file_extension": ".py",
   "mimetype": "text/x-python",
   "name": "python",
   "nbconvert_exporter": "python",
   "pygments_lexer": "ipython3",
   "version": "3.8.10"
  },
  "orig_nbformat": 4
 },
 "nbformat": 4,
 "nbformat_minor": 2
}
