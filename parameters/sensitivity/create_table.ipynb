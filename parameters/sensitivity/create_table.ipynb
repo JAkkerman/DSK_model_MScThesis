{
 "cells": [
  {
   "cell_type": "code",
   "execution_count": 1,
   "metadata": {},
   "outputs": [],
   "source": [
    "import numpy as np\n",
    "import pandas as pd"
   ]
  },
  {
   "cell_type": "code",
   "execution_count": 5,
   "metadata": {},
   "outputs": [
    {
     "data": {
      "text/html": [
       "<div>\n",
       "<style scoped>\n",
       "    .dataframe tbody tr th:only-of-type {\n",
       "        vertical-align: middle;\n",
       "    }\n",
       "\n",
       "    .dataframe tbody tr th {\n",
       "        vertical-align: top;\n",
       "    }\n",
       "\n",
       "    .dataframe thead th {\n",
       "        text-align: right;\n",
       "    }\n",
       "</style>\n",
       "<table border=\"1\" class=\"dataframe\">\n",
       "  <thead>\n",
       "    <tr style=\"text-align: right;\">\n",
       "      <th></th>\n",
       "      <th>y</th>\n",
       "      <th>α_cp</th>\n",
       "      <th>ω</th>\n",
       "      <th>λ</th>\n",
       "      <th>κ_upper</th>\n",
       "      <th>prog</th>\n",
       "      <th>μ1</th>\n",
       "      <th>ϵ</th>\n",
       "      <th>p_f</th>\n",
       "      <th>ψ_P</th>\n",
       "      <th>ψ_Q</th>\n",
       "      <th>ψ_E</th>\n",
       "    </tr>\n",
       "  </thead>\n",
       "  <tbody>\n",
       "    <tr>\n",
       "      <th>0</th>\n",
       "      <td>GDP_1st</td>\n",
       "      <td>0.14</td>\n",
       "      <td>0.03</td>\n",
       "      <td>0.03</td>\n",
       "      <td>0.30</td>\n",
       "      <td>0.03</td>\n",
       "      <td>0.03</td>\n",
       "      <td>0.03</td>\n",
       "      <td>0.24</td>\n",
       "      <td>0.03</td>\n",
       "      <td>0.03</td>\n",
       "      <td>0.03</td>\n",
       "    </tr>\n",
       "    <tr>\n",
       "      <th>1</th>\n",
       "      <td>GDP_2nd</td>\n",
       "      <td>0.09</td>\n",
       "      <td>0.05</td>\n",
       "      <td>0.25</td>\n",
       "      <td>0.09</td>\n",
       "      <td>0.03</td>\n",
       "      <td>0.04</td>\n",
       "      <td>0.08</td>\n",
       "      <td>0.10</td>\n",
       "      <td>0.03</td>\n",
       "      <td>0.02</td>\n",
       "      <td>0.05</td>\n",
       "    </tr>\n",
       "    <tr>\n",
       "      <th>2</th>\n",
       "      <td>GDP_3rd</td>\n",
       "      <td>0.16</td>\n",
       "      <td>0.03</td>\n",
       "      <td>0.08</td>\n",
       "      <td>0.07</td>\n",
       "      <td>0.03</td>\n",
       "      <td>0.05</td>\n",
       "      <td>0.03</td>\n",
       "      <td>0.25</td>\n",
       "      <td>0.03</td>\n",
       "      <td>0.03</td>\n",
       "      <td>0.04</td>\n",
       "    </tr>\n",
       "    <tr>\n",
       "      <th>3</th>\n",
       "      <td>GDP_4th</td>\n",
       "      <td>0.15</td>\n",
       "      <td>0.04</td>\n",
       "      <td>0.10</td>\n",
       "      <td>0.10</td>\n",
       "      <td>0.04</td>\n",
       "      <td>0.03</td>\n",
       "      <td>0.03</td>\n",
       "      <td>0.21</td>\n",
       "      <td>0.03</td>\n",
       "      <td>0.03</td>\n",
       "      <td>0.03</td>\n",
       "    </tr>\n",
       "    <tr>\n",
       "      <th>4</th>\n",
       "      <td>dQ_1st</td>\n",
       "      <td>0.11</td>\n",
       "      <td>0.03</td>\n",
       "      <td>0.03</td>\n",
       "      <td>0.42</td>\n",
       "      <td>0.03</td>\n",
       "      <td>0.04</td>\n",
       "      <td>0.04</td>\n",
       "      <td>0.09</td>\n",
       "      <td>0.03</td>\n",
       "      <td>0.03</td>\n",
       "      <td>0.05</td>\n",
       "    </tr>\n",
       "  </tbody>\n",
       "</table>\n",
       "</div>"
      ],
      "text/plain": [
       "         y  α_cp     ω     λ  κ_upper  prog    μ1     ϵ   p_f   ψ_P   ψ_Q  \\\n",
       "0  GDP_1st  0.14  0.03  0.03     0.30  0.03  0.03  0.03  0.24  0.03  0.03   \n",
       "1  GDP_2nd  0.09  0.05  0.25     0.09  0.03  0.04  0.08  0.10  0.03  0.02   \n",
       "2  GDP_3rd  0.16  0.03  0.08     0.07  0.03  0.05  0.03  0.25  0.03  0.03   \n",
       "3  GDP_4th  0.15  0.04  0.10     0.10  0.04  0.03  0.03  0.21  0.03  0.03   \n",
       "4   dQ_1st  0.11  0.03  0.03     0.42  0.03  0.04  0.04  0.09  0.03  0.03   \n",
       "\n",
       "    ψ_E  \n",
       "0  0.03  \n",
       "1  0.05  \n",
       "2  0.04  \n",
       "3  0.03  \n",
       "4  0.05  "
      ]
     },
     "execution_count": 5,
     "metadata": {},
     "output_type": "execute_result"
    }
   ],
   "source": [
    "df = pd.read_csv('sensitivity_runs/output_data/KS_mean_values.csv')\n",
    "df.round(2).head()"
   ]
  },
  {
   "cell_type": "code",
   "execution_count": 8,
   "metadata": {},
   "outputs": [
    {
     "name": "stdout",
     "output_type": "stream",
     "text": [
      "\\begin{tabular}{lrrrrrrrrrrr}\n",
      "\\toprule\n",
      "         y &  α\\_cp &    ω &    λ &  κ\\_upper &  prog &   μ1 &    ϵ &  p\\_f &  ψ\\_P &  ψ\\_Q &  ψ\\_E \\\\\n",
      "\\midrule\n",
      "   GDP\\_1st &  0.14 & 0.03 & 0.03 &     0.30 &  0.03 & 0.03 & 0.03 & 0.24 & 0.03 & 0.03 & 0.03 \\\\\n",
      "   GDP\\_2nd &  0.09 & 0.05 & 0.25 &     0.09 &  0.03 & 0.04 & 0.08 & 0.10 & 0.03 & 0.02 & 0.05 \\\\\n",
      "   GDP\\_3rd &  0.16 & 0.03 & 0.08 &     0.07 &  0.03 & 0.05 & 0.03 & 0.25 & 0.03 & 0.03 & 0.04 \\\\\n",
      "   GDP\\_4th &  0.15 & 0.04 & 0.10 &     0.10 &  0.04 & 0.03 & 0.03 & 0.21 & 0.03 & 0.03 & 0.03 \\\\\n",
      "    dQ\\_1st &  0.11 & 0.03 & 0.03 &     0.42 &  0.03 & 0.04 & 0.04 & 0.09 & 0.03 & 0.03 & 0.05 \\\\\n",
      "    dQ\\_2nd &  0.08 & 0.07 & 0.18 &     0.14 &  0.03 & 0.03 & 0.11 & 0.06 & 0.03 & 0.02 & 0.11 \\\\\n",
      "   LIS\\_1st &  0.07 & 0.04 & 0.10 &     0.03 &  0.03 & 0.37 & 0.09 & 0.05 & 0.04 & 0.03 & 0.14 \\\\\n",
      "GINI\\_I\\_1st &  0.14 & 0.03 & 0.06 &     0.04 &  0.35 & 0.11 & 0.06 & 0.07 & 0.03 & 0.03 & 0.09 \\\\\n",
      "GINI\\_I\\_2nd &  0.10 & 0.03 & 0.11 &     0.04 &  0.09 & 0.08 & 0.11 & 0.22 & 0.03 & 0.03 & 0.11 \\\\\n",
      "GINI\\_W\\_1st &  0.47 & 0.03 & 0.04 &     0.03 &  0.18 & 0.08 & 0.03 & 0.05 & 0.03 & 0.03 & 0.05 \\\\\n",
      "GINI\\_W\\_2nd &  0.26 & 0.03 & 0.05 &     0.04 &  0.06 & 0.07 & 0.03 & 0.22 & 0.03 & 0.03 & 0.05 \\\\\n",
      "     U\\_1st &  0.12 & 0.04 & 0.12 &     0.03 &  0.03 & 0.04 & 0.11 & 0.11 & 0.03 & 0.03 & 0.26 \\\\\n",
      "     U\\_2nd &  0.21 & 0.04 & 0.16 &     0.05 &  0.03 & 0.04 & 0.08 & 0.12 & 0.03 & 0.02 & 0.13 \\\\\n",
      "    dI\\_1st &  0.05 & 0.04 & 0.22 &     0.24 &  0.03 & 0.04 & 0.03 & 0.07 & 0.03 & 0.03 & 0.06 \\\\\n",
      "    dC\\_1st &  0.25 & 0.03 & 0.06 &     0.05 &  0.03 & 0.08 & 0.05 & 0.17 & 0.02 & 0.03 & 0.06 \\\\\n",
      " bankr\\_1st &  0.12 & 0.04 & 0.19 &     0.06 &  0.03 & 0.06 & 0.10 & 0.13 & 0.05 & 0.05 & 0.20 \\\\\n",
      "  LP\\_g\\_1st &  0.04 & 0.03 & 0.05 &     0.51 &  0.03 & 0.03 & 0.05 & 0.06 & 0.03 & 0.03 & 0.08 \\\\\n",
      "  EE\\_g\\_1st &  0.06 & 0.02 & 0.10 &     0.13 &  0.03 & 0.03 & 0.06 & 0.07 & 0.02 & 0.03 & 0.12 \\\\\n",
      "  EF\\_g\\_1st &  0.06 & 0.03 & 0.10 &     0.13 &  0.02 & 0.04 & 0.07 & 0.07 & 0.02 & 0.03 & 0.12 \\\\\n",
      "    em2030 &  0.17 & 0.03 & 0.04 &     0.19 &  0.03 & 0.04 & 0.03 & 0.32 & 0.03 & 0.03 & 0.03 \\\\\n",
      "    em2040 &  0.13 & 0.03 & 0.04 &     0.22 &  0.03 & 0.04 & 0.03 & 0.35 & 0.03 & 0.03 & 0.03 \\\\\n",
      "    em2050 &  0.11 & 0.03 & 0.03 &     0.27 &  0.02 & 0.04 & 0.03 & 0.28 & 0.03 & 0.03 & 0.03 \\\\\n",
      "\\bottomrule\n",
      "\\end{tabular}\n",
      "\n"
     ]
    }
   ],
   "source": [
    "print(df.round(2).to_latex(index=False))"
   ]
  },
  {
   "cell_type": "code",
   "execution_count": null,
   "metadata": {},
   "outputs": [],
   "source": []
  }
 ],
 "metadata": {
  "kernelspec": {
   "display_name": "Python 3.8.10 64-bit",
   "language": "python",
   "name": "python3"
  },
  "language_info": {
   "codemirror_mode": {
    "name": "ipython",
    "version": 3
   },
   "file_extension": ".py",
   "mimetype": "text/x-python",
   "name": "python",
   "nbconvert_exporter": "python",
   "pygments_lexer": "ipython3",
   "version": "3.8.10"
  },
  "orig_nbformat": 4,
  "vscode": {
   "interpreter": {
    "hash": "31f2aee4e71d21fbe5cf8b01ff0e069b9275f58929596ceb00d14d90e3e16cd6"
   }
  }
 },
 "nbformat": 4,
 "nbformat_minor": 2
}
