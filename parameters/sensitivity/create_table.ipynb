{
 "cells": [
  {
   "cell_type": "code",
   "execution_count": 76,
   "metadata": {},
   "outputs": [],
   "source": [
    "import numpy as np\n",
    "import pandas as pd"
   ]
  },
  {
   "cell_type": "code",
   "execution_count": 77,
   "metadata": {},
   "outputs": [
    {
     "data": {
      "text/html": [
       "<div>\n",
       "<style scoped>\n",
       "    .dataframe tbody tr th:only-of-type {\n",
       "        vertical-align: middle;\n",
       "    }\n",
       "\n",
       "    .dataframe tbody tr th {\n",
       "        vertical-align: top;\n",
       "    }\n",
       "\n",
       "    .dataframe thead th {\n",
       "        text-align: right;\n",
       "    }\n",
       "</style>\n",
       "<table border=\"1\" class=\"dataframe\">\n",
       "  <thead>\n",
       "    <tr style=\"text-align: right;\">\n",
       "      <th></th>\n",
       "      <th>y</th>\n",
       "      <th>α_cp</th>\n",
       "      <th>ω</th>\n",
       "      <th>λ</th>\n",
       "      <th>κ_upper</th>\n",
       "      <th>prog</th>\n",
       "      <th>μ1</th>\n",
       "      <th>ϵ_w</th>\n",
       "      <th>ϵ_μ</th>\n",
       "      <th>p_f</th>\n",
       "      <th>ψ_P</th>\n",
       "      <th>ψ_Q</th>\n",
       "      <th>ψ_E</th>\n",
       "    </tr>\n",
       "  </thead>\n",
       "  <tbody>\n",
       "    <tr>\n",
       "      <th>0</th>\n",
       "      <td>GDP_1st</td>\n",
       "      <td>0.101</td>\n",
       "      <td>0.027</td>\n",
       "      <td>0.041</td>\n",
       "      <td>0.334</td>\n",
       "      <td>0.026</td>\n",
       "      <td>0.030</td>\n",
       "      <td>0.041</td>\n",
       "      <td>0.025</td>\n",
       "      <td>0.159</td>\n",
       "      <td>0.024</td>\n",
       "      <td>0.023</td>\n",
       "      <td>0.045</td>\n",
       "    </tr>\n",
       "    <tr>\n",
       "      <th>1</th>\n",
       "      <td>GDP_2nd</td>\n",
       "      <td>0.087</td>\n",
       "      <td>0.065</td>\n",
       "      <td>0.212</td>\n",
       "      <td>0.103</td>\n",
       "      <td>0.026</td>\n",
       "      <td>0.074</td>\n",
       "      <td>0.046</td>\n",
       "      <td>0.029</td>\n",
       "      <td>0.111</td>\n",
       "      <td>0.026</td>\n",
       "      <td>0.026</td>\n",
       "      <td>0.060</td>\n",
       "    </tr>\n",
       "    <tr>\n",
       "      <th>2</th>\n",
       "      <td>GDP_3rd</td>\n",
       "      <td>0.110</td>\n",
       "      <td>0.029</td>\n",
       "      <td>0.087</td>\n",
       "      <td>0.067</td>\n",
       "      <td>0.027</td>\n",
       "      <td>0.029</td>\n",
       "      <td>0.046</td>\n",
       "      <td>0.029</td>\n",
       "      <td>0.175</td>\n",
       "      <td>0.025</td>\n",
       "      <td>0.026</td>\n",
       "      <td>0.038</td>\n",
       "    </tr>\n",
       "    <tr>\n",
       "      <th>3</th>\n",
       "      <td>GDP_4th</td>\n",
       "      <td>0.125</td>\n",
       "      <td>0.031</td>\n",
       "      <td>0.083</td>\n",
       "      <td>0.090</td>\n",
       "      <td>0.027</td>\n",
       "      <td>0.028</td>\n",
       "      <td>0.032</td>\n",
       "      <td>0.031</td>\n",
       "      <td>0.182</td>\n",
       "      <td>0.024</td>\n",
       "      <td>0.025</td>\n",
       "      <td>0.036</td>\n",
       "    </tr>\n",
       "    <tr>\n",
       "      <th>4</th>\n",
       "      <td>dQ_1st</td>\n",
       "      <td>0.084</td>\n",
       "      <td>0.029</td>\n",
       "      <td>0.038</td>\n",
       "      <td>0.371</td>\n",
       "      <td>0.027</td>\n",
       "      <td>0.038</td>\n",
       "      <td>0.055</td>\n",
       "      <td>0.025</td>\n",
       "      <td>0.097</td>\n",
       "      <td>0.024</td>\n",
       "      <td>0.023</td>\n",
       "      <td>0.063</td>\n",
       "    </tr>\n",
       "  </tbody>\n",
       "</table>\n",
       "</div>"
      ],
      "text/plain": [
       "         y   α_cp      ω      λ  κ_upper   prog     μ1    ϵ_w    ϵ_μ    p_f  \\\n",
       "0  GDP_1st  0.101  0.027  0.041    0.334  0.026  0.030  0.041  0.025  0.159   \n",
       "1  GDP_2nd  0.087  0.065  0.212    0.103  0.026  0.074  0.046  0.029  0.111   \n",
       "2  GDP_3rd  0.110  0.029  0.087    0.067  0.027  0.029  0.046  0.029  0.175   \n",
       "3  GDP_4th  0.125  0.031  0.083    0.090  0.027  0.028  0.032  0.031  0.182   \n",
       "4   dQ_1st  0.084  0.029  0.038    0.371  0.027  0.038  0.055  0.025  0.097   \n",
       "\n",
       "     ψ_P    ψ_Q    ψ_E  \n",
       "0  0.024  0.023  0.045  \n",
       "1  0.026  0.026  0.060  \n",
       "2  0.025  0.026  0.038  \n",
       "3  0.024  0.025  0.036  \n",
       "4  0.024  0.023  0.063  "
      ]
     },
     "execution_count": 77,
     "metadata": {},
     "output_type": "execute_result"
    }
   ],
   "source": [
    "df = pd.read_csv('sensitivity_runs/output_data/KS_mean_values.csv')\n",
    "df.round(3).head()"
   ]
  },
  {
   "cell_type": "code",
   "execution_count": 78,
   "metadata": {},
   "outputs": [
    {
     "name": "stdout",
     "output_type": "stream",
     "text": [
      "['y', 'α_cp', 'ω', 'λ', 'κ_upper', 'prog', 'μ1', 'ϵ_w', 'ϵ_μ', 'p_f', 'ψ_P', 'ψ_Q', 'ψ_E']\n"
     ]
    }
   ],
   "source": [
    "print(df.columns.to_list())"
   ]
  },
  {
   "cell_type": "code",
   "execution_count": 79,
   "metadata": {},
   "outputs": [
    {
     "name": "stdout",
     "output_type": "stream",
     "text": [
      "['GDP_1st', 'GDP_2nd', 'GDP_3rd', 'GDP_4th', 'dQ_1st', 'dQ_2nd', 'LIS_1st', 'GINI_I_1st', 'GINI_I_2nd', 'GINI_W_1st', 'GINI_W_2nd', 'U_1st', 'U_2nd', 'dI_1st', 'dC_1st', 'bankr_1st', 'LP_g_1st', 'EE_g_1st', 'EF_g_1st', 'em2030', 'em2040', 'em2050']\n"
     ]
    }
   ],
   "source": [
    "print(df.y.to_list())"
   ]
  },
  {
   "cell_type": "code",
   "execution_count": 80,
   "metadata": {},
   "outputs": [],
   "source": [
    "rows = [\n",
    "    'GDP_1st', \n",
    "    'GDP_2nd', \n",
    "    'LIS_1st', \n",
    "    'GINI_I_1st', \n",
    "    'GINI_W_1st', \n",
    "    'U_1st', \n",
    "    'U_2nd',\n",
    "    'dI_1st', \n",
    "    'dC_1st', \n",
    "    'bankr_1st', \n",
    "    'LP_g_1st', \n",
    "    'EE_g_1st', \n",
    "    'EF_g_1st', \n",
    "    'em2030', \n",
    "    'em2040', \n",
    "    'em2050'\n",
    "]"
   ]
  },
  {
   "cell_type": "markdown",
   "metadata": {},
   "source": []
  },
  {
   "cell_type": "code",
   "execution_count": 81,
   "metadata": {},
   "outputs": [],
   "source": [
    "df = df.loc[df.y.isin(rows)]"
   ]
  },
  {
   "cell_type": "code",
   "execution_count": 82,
   "metadata": {},
   "outputs": [],
   "source": [
    "rownames = [\n",
    "    '$dGDP$ 1', \n",
    "    '$dGDP$ 2', \n",
    "    '$LIS$', \n",
    "    'GINI $I$', \n",
    "    'GINI $W$', \n",
    "    '$U$ 1', \n",
    "    '$U$ 2',\n",
    "    '$dI$', \n",
    "    '$dC$', \n",
    "    'bankr', \n",
    "    '$dLP$', \n",
    "    '$dEE$', \n",
    "    '$dEF$', \n",
    "    'em2030', \n",
    "    'em2040', \n",
    "    'em2050'\n",
    "]"
   ]
  },
  {
   "cell_type": "code",
   "execution_count": 83,
   "metadata": {},
   "outputs": [],
   "source": [
    "colnames = {\n",
    "    'y': '$y$', \n",
    "    'α_cp': '$\\alpha_{cp}$', \n",
    "    'ω': '$\\omega$', \n",
    "    'λ': '$\\lambda$', \n",
    "    'κ_upper': '$\\kappa_{upper}$', \n",
    "    'prog': '$prog$', \n",
    "    'μ1': '$\\mu_1$', \n",
    "    'ϵ_w': '$\\epsilon_{w}$', \n",
    "    'ϵ_μ': '$\\\\bar{\\epsilon}_{\\mu}$', \n",
    "    'p_f': '$p_f$', \n",
    "    'ψ_P': '$\\psi_P$', \n",
    "    'ψ_Q': '$\\psi_Q$', \n",
    "    'ψ_E': '$\\psi_E$'\n",
    "}"
   ]
  },
  {
   "cell_type": "code",
   "execution_count": 84,
   "metadata": {},
   "outputs": [],
   "source": [
    "df = df.rename(columns=colnames)"
   ]
  },
  {
   "cell_type": "code",
   "execution_count": 85,
   "metadata": {},
   "outputs": [
    {
     "data": {
      "text/plain": [
       "0        GDP_1st\n",
       "1        GDP_2nd\n",
       "6        LIS_1st\n",
       "7     GINI_I_1st\n",
       "9     GINI_W_1st\n",
       "11         U_1st\n",
       "12         U_2nd\n",
       "13        dI_1st\n",
       "14        dC_1st\n",
       "15     bankr_1st\n",
       "16      LP_g_1st\n",
       "17      EE_g_1st\n",
       "18      EF_g_1st\n",
       "19        em2030\n",
       "20        em2040\n",
       "21        em2050\n",
       "Name: $y$, dtype: object"
      ]
     },
     "execution_count": 85,
     "metadata": {},
     "output_type": "execute_result"
    }
   ],
   "source": [
    "df[\"$y$\"]"
   ]
  },
  {
   "cell_type": "code",
   "execution_count": 86,
   "metadata": {},
   "outputs": [],
   "source": [
    "df['$y$'] = rownames"
   ]
  },
  {
   "cell_type": "code",
   "execution_count": 87,
   "metadata": {},
   "outputs": [],
   "source": [
    "N_u = 500\n",
    "N_c = 100"
   ]
  },
  {
   "cell_type": "code",
   "execution_count": 88,
   "metadata": {},
   "outputs": [
    {
     "name": "stdout",
     "output_type": "stream",
     "text": [
      "1.6276236307187293 1.3581015157406195 1.2238734153404083\n"
     ]
    }
   ],
   "source": [
    "c_1 = np.sqrt(-.5 * np.log(0.01 / 2))\n",
    "c_5 = np.sqrt(-.5 * np.log(0.05 / 2))\n",
    "c_10 = np.sqrt(-.5 * np.log(0.1 / 2))\n",
    "\n",
    "print(c_1, c_5, c_10)"
   ]
  },
  {
   "cell_type": "code",
   "execution_count": 89,
   "metadata": {},
   "outputs": [
    {
     "name": "stdout",
     "output_type": "stream",
     "text": [
      "0.1782972355346213 0.14877256711061895 0.13406861542256618\n"
     ]
    }
   ],
   "source": [
    "KS_1 = c_1 * np.sqrt((N_u + N_c) / (N_u * N_c))\n",
    "KS_5 = c_5 * np.sqrt((N_u + N_c) / (N_u * N_c))\n",
    "KS_10 = c_10 * np.sqrt((N_u + N_c) / (N_u * N_c))\n",
    "\n",
    "print(KS_1, KS_5, KS_10)"
   ]
  },
  {
   "cell_type": "code",
   "execution_count": 90,
   "metadata": {},
   "outputs": [
    {
     "name": "stderr",
     "output_type": "stream",
     "text": [
      "/home/joosakkerman/.local/lib/python3.8/site-packages/pandas/core/indexing.py:1732: SettingWithCopyWarning: \n",
      "A value is trying to be set on a copy of a slice from a DataFrame\n",
      "\n",
      "See the caveats in the documentation: https://pandas.pydata.org/pandas-docs/stable/user_guide/indexing.html#returning-a-view-versus-a-copy\n",
      "  self._setitem_single_block(indexer, value, name)\n"
     ]
    }
   ],
   "source": [
    "for i, col in enumerate(df):\n",
    "    if i != 0:\n",
    "        for j, row in enumerate(df[col]):\n",
    "            df[col].iloc[j] = f'{str(np.round(row, 2))}'\n",
    "            if row > KS_1:\n",
    "                df[col].iloc[j] += \"$^{***}$\"\n",
    "            elif row > KS_5:\n",
    "                df[col].iloc[j] += \"$^{**}$\"\n",
    "            elif row > KS_10:\n",
    "                df[col].iloc[j] += \"$^{*}$\""
   ]
  },
  {
   "cell_type": "code",
   "execution_count": 91,
   "metadata": {},
   "outputs": [
    {
     "data": {
      "text/html": [
       "<div>\n",
       "<style scoped>\n",
       "    .dataframe tbody tr th:only-of-type {\n",
       "        vertical-align: middle;\n",
       "    }\n",
       "\n",
       "    .dataframe tbody tr th {\n",
       "        vertical-align: top;\n",
       "    }\n",
       "\n",
       "    .dataframe thead th {\n",
       "        text-align: right;\n",
       "    }\n",
       "</style>\n",
       "<table border=\"1\" class=\"dataframe\">\n",
       "  <thead>\n",
       "    <tr style=\"text-align: right;\">\n",
       "      <th></th>\n",
       "      <th>$y$</th>\n",
       "      <th>$\u0007lpha_{cp}$</th>\n",
       "      <th>$\\omega$</th>\n",
       "      <th>$\\lambda$</th>\n",
       "      <th>$\\kappa_{upper}$</th>\n",
       "      <th>$prog$</th>\n",
       "      <th>$\\mu_1$</th>\n",
       "      <th>$\\epsilon_{w}$</th>\n",
       "      <th>$\\bar{\\epsilon}_{\\mu}$</th>\n",
       "      <th>$p_f$</th>\n",
       "      <th>$\\psi_P$</th>\n",
       "      <th>$\\psi_Q$</th>\n",
       "      <th>$\\psi_E$</th>\n",
       "    </tr>\n",
       "  </thead>\n",
       "  <tbody>\n",
       "    <tr>\n",
       "      <th>0</th>\n",
       "      <td>$dGDP$ 1</td>\n",
       "      <td>0.1</td>\n",
       "      <td>0.03</td>\n",
       "      <td>0.04</td>\n",
       "      <td>0.33$^{***}$</td>\n",
       "      <td>0.03</td>\n",
       "      <td>0.03</td>\n",
       "      <td>0.04</td>\n",
       "      <td>0.03</td>\n",
       "      <td>0.16$^{**}$</td>\n",
       "      <td>0.02</td>\n",
       "      <td>0.02</td>\n",
       "      <td>0.05</td>\n",
       "    </tr>\n",
       "    <tr>\n",
       "      <th>1</th>\n",
       "      <td>$dGDP$ 2</td>\n",
       "      <td>0.09</td>\n",
       "      <td>0.07</td>\n",
       "      <td>0.21$^{***}$</td>\n",
       "      <td>0.1</td>\n",
       "      <td>0.03</td>\n",
       "      <td>0.07</td>\n",
       "      <td>0.05</td>\n",
       "      <td>0.03</td>\n",
       "      <td>0.11</td>\n",
       "      <td>0.03</td>\n",
       "      <td>0.03</td>\n",
       "      <td>0.06</td>\n",
       "    </tr>\n",
       "    <tr>\n",
       "      <th>6</th>\n",
       "      <td>$LIS$</td>\n",
       "      <td>0.07</td>\n",
       "      <td>0.03</td>\n",
       "      <td>0.1</td>\n",
       "      <td>0.03</td>\n",
       "      <td>0.03</td>\n",
       "      <td>0.32$^{***}$</td>\n",
       "      <td>0.08</td>\n",
       "      <td>0.05</td>\n",
       "      <td>0.06</td>\n",
       "      <td>0.03</td>\n",
       "      <td>0.03</td>\n",
       "      <td>0.13</td>\n",
       "    </tr>\n",
       "    <tr>\n",
       "      <th>7</th>\n",
       "      <td>GINI $I$</td>\n",
       "      <td>0.17$^{**}$</td>\n",
       "      <td>0.03</td>\n",
       "      <td>0.06</td>\n",
       "      <td>0.02</td>\n",
       "      <td>0.21$^{***}$</td>\n",
       "      <td>0.16$^{**}$</td>\n",
       "      <td>0.04</td>\n",
       "      <td>0.05</td>\n",
       "      <td>0.1</td>\n",
       "      <td>0.02</td>\n",
       "      <td>0.03</td>\n",
       "      <td>0.08</td>\n",
       "    </tr>\n",
       "    <tr>\n",
       "      <th>9</th>\n",
       "      <td>GINI $W$</td>\n",
       "      <td>0.27$^{***}$</td>\n",
       "      <td>0.03</td>\n",
       "      <td>0.05</td>\n",
       "      <td>0.05</td>\n",
       "      <td>0.07</td>\n",
       "      <td>0.16$^{**}$</td>\n",
       "      <td>0.07</td>\n",
       "      <td>0.08</td>\n",
       "      <td>0.18$^{**}$</td>\n",
       "      <td>0.02</td>\n",
       "      <td>0.03</td>\n",
       "      <td>0.07</td>\n",
       "    </tr>\n",
       "  </tbody>\n",
       "</table>\n",
       "</div>"
      ],
      "text/plain": [
       "        $y$  $\u0007lpha_{cp}$ $\\omega$     $\\lambda$ $\\kappa_{upper}$  \\\n",
       "0  $dGDP$ 1           0.1     0.03          0.04     0.33$^{***}$   \n",
       "1  $dGDP$ 2          0.09     0.07  0.21$^{***}$              0.1   \n",
       "6     $LIS$          0.07     0.03           0.1             0.03   \n",
       "7  GINI $I$   0.17$^{**}$     0.03          0.06             0.02   \n",
       "9  GINI $W$  0.27$^{***}$     0.03          0.05             0.05   \n",
       "\n",
       "         $prog$       $\\mu_1$ $\\epsilon_{w}$ $\\bar{\\epsilon}_{\\mu}$  \\\n",
       "0          0.03          0.03           0.04                   0.03   \n",
       "1          0.03          0.07           0.05                   0.03   \n",
       "6          0.03  0.32$^{***}$           0.08                   0.05   \n",
       "7  0.21$^{***}$   0.16$^{**}$           0.04                   0.05   \n",
       "9          0.07   0.16$^{**}$           0.07                   0.08   \n",
       "\n",
       "         $p_f$ $\\psi_P$ $\\psi_Q$ $\\psi_E$  \n",
       "0  0.16$^{**}$     0.02     0.02     0.05  \n",
       "1         0.11     0.03     0.03     0.06  \n",
       "6         0.06     0.03     0.03     0.13  \n",
       "7          0.1     0.02     0.03     0.08  \n",
       "9  0.18$^{**}$     0.02     0.03     0.07  "
      ]
     },
     "execution_count": 91,
     "metadata": {},
     "output_type": "execute_result"
    }
   ],
   "source": [
    "df.head()"
   ]
  },
  {
   "cell_type": "code",
   "execution_count": 92,
   "metadata": {},
   "outputs": [
    {
     "name": "stdout",
     "output_type": "stream",
     "text": [
      "\\begin{tabular}{lllllllllllll}\n",
      "\\toprule\n",
      "     $y$ & $\u0007lpha_{cp}$ & $\\omega$ &    $\\lambda$ & $\\kappa_{upper}$ &       $prog$ &      $\\mu_1$ & $\\epsilon_{w}$ & $\\bar{\\epsilon}_{\\mu}$ &        $p_f$ & $\\psi_P$ & $\\psi_Q$ &     $\\psi_E$ \\\\\n",
      "\\midrule\n",
      "$dGDP$ 1 &          0.1 &     0.03 &         0.04 &     0.33$^{***}$ &         0.03 &         0.03 &           0.04 &                   0.03 &  0.16$^{**}$ &     0.02 &     0.02 &         0.05 \\\\\n",
      "$dGDP$ 2 &         0.09 &     0.07 & 0.21$^{***}$ &              0.1 &         0.03 &         0.07 &           0.05 &                   0.03 &         0.11 &     0.03 &     0.03 &         0.06 \\\\\n",
      "   $LIS$ &         0.07 &     0.03 &          0.1 &             0.03 &         0.03 & 0.32$^{***}$ &           0.08 &                   0.05 &         0.06 &     0.03 &     0.03 &         0.13 \\\\\n",
      "GINI $I$ &  0.17$^{**}$ &     0.03 &         0.06 &             0.02 & 0.21$^{***}$ &  0.16$^{**}$ &           0.04 &                   0.05 &          0.1 &     0.02 &     0.03 &         0.08 \\\\\n",
      "GINI $W$ & 0.27$^{***}$ &     0.03 &         0.05 &             0.05 &         0.07 &  0.16$^{**}$ &           0.07 &                   0.08 &  0.18$^{**}$ &     0.02 &     0.03 &         0.07 \\\\\n",
      "   $U$ 1 & 0.21$^{***}$ &     0.03 &          0.1 &             0.06 &         0.03 &         0.04 &            0.1 &                   0.04 &         0.08 &     0.02 &     0.02 & 0.23$^{***}$ \\\\\n",
      "   $U$ 2 & 0.23$^{***}$ &     0.05 &         0.13 &             0.06 &         0.03 &         0.04 &           0.09 &                   0.03 &         0.13 &     0.02 &     0.02 &         0.13 \\\\\n",
      "    $dI$ &         0.04 &     0.04 & 0.23$^{***}$ &     0.21$^{***}$ &         0.02 &         0.03 &           0.03 &                   0.03 &         0.07 &     0.02 &     0.02 &         0.05 \\\\\n",
      "    $dC$ &  0.17$^{**}$ &     0.03 &         0.08 &             0.08 &         0.03 &         0.07 &           0.06 &                   0.06 & 0.21$^{***}$ &     0.02 &     0.02 &         0.07 \\\\\n",
      "   bankr &         0.06 &     0.06 &  0.2$^{***}$ &             0.07 &         0.03 &         0.07 &           0.09 &                   0.06 &         0.13 &     0.05 &     0.06 & 0.19$^{***}$ \\\\\n",
      "   $dLP$ &         0.04 &     0.03 &         0.05 &     0.49$^{***}$ &         0.02 &         0.03 &           0.06 &                   0.02 &         0.07 &     0.02 &     0.02 &         0.08 \\\\\n",
      "   $dEE$ &         0.05 &     0.03 &          0.1 &             0.13 &         0.02 &         0.03 &           0.07 &                   0.03 &         0.06 &     0.02 &     0.02 &         0.12 \\\\\n",
      "   $dEF$ &         0.05 &     0.03 &          0.1 &             0.13 &         0.02 &         0.03 &           0.08 &                   0.03 &         0.06 &     0.03 &     0.02 &         0.12 \\\\\n",
      "  em2030 &         0.13 &     0.03 &         0.04 &     0.19$^{***}$ &         0.03 &         0.04 &           0.03 &                   0.02 & 0.25$^{***}$ &     0.02 &     0.02 &         0.04 \\\\\n",
      "  em2040 &         0.11 &     0.03 &         0.04 &     0.23$^{***}$ &         0.03 &         0.04 &           0.03 &                   0.03 & 0.32$^{***}$ &     0.02 &     0.02 &         0.03 \\\\\n",
      "  em2050 &         0.08 &     0.03 &         0.04 &     0.27$^{***}$ &         0.03 &         0.04 &           0.03 &                   0.02 & 0.27$^{***}$ &     0.02 &     0.02 &         0.03 \\\\\n",
      "\\bottomrule\n",
      "\\end{tabular}\n",
      "\n"
     ]
    }
   ],
   "source": [
    "print(df.round(3).to_latex(index=False, escape=False))"
   ]
  },
  {
   "cell_type": "code",
   "execution_count": 93,
   "metadata": {},
   "outputs": [
    {
     "ename": "ValueError",
     "evalue": "If using all scalar values, you must pass an index",
     "output_type": "error",
     "traceback": [
      "\u001b[0;31m---------------------------------------------------------------------------\u001b[0m",
      "\u001b[0;31mValueError\u001b[0m                                Traceback (most recent call last)",
      "\u001b[1;32m/mnt/c/Users/juliu/OneDrive/Bureaublad/MSc/Thesis/DSK_model_MScThesis/parameters/sensitivity/create_table.ipynb Cell 19\u001b[0m in \u001b[0;36m<module>\u001b[0;34m\u001b[0m\n\u001b[1;32m      <a href='vscode-notebook-cell://wsl%2Bubuntu-20.04/mnt/c/Users/juliu/OneDrive/Bureaublad/MSc/Thesis/DSK_model_MScThesis/parameters/sensitivity/create_table.ipynb#X24sdnNjb2RlLXJlbW90ZQ%3D%3D?line=0'>1</a>\u001b[0m paramranges \u001b[39m=\u001b[39m {\n\u001b[1;32m      <a href='vscode-notebook-cell://wsl%2Bubuntu-20.04/mnt/c/Users/juliu/OneDrive/Bureaublad/MSc/Thesis/DSK_model_MScThesis/parameters/sensitivity/create_table.ipynb#X24sdnNjb2RlLXJlbW90ZQ%3D%3D?line=1'>2</a>\u001b[0m     \u001b[39m\"\u001b[39m\u001b[39m$\u001b[39m\u001b[39m\\\\\u001b[39;00m\u001b[39malpha_\u001b[39m\u001b[39m{cp}\u001b[39;00m\u001b[39m$\u001b[39m\u001b[39m\"\u001b[39m: \u001b[39m'\u001b[39m\u001b[39m[0.4, 1.0]\u001b[39m\u001b[39m'\u001b[39m,\n\u001b[1;32m      <a href='vscode-notebook-cell://wsl%2Bubuntu-20.04/mnt/c/Users/juliu/OneDrive/Bureaublad/MSc/Thesis/DSK_model_MScThesis/parameters/sensitivity/create_table.ipynb#X24sdnNjb2RlLXJlbW90ZQ%3D%3D?line=2'>3</a>\u001b[0m     \u001b[39m\"\u001b[39m\u001b[39mprog\u001b[39m\u001b[39m\"\u001b[39m: \u001b[39m'\u001b[39m\u001b[39m[-1.0, 1.0]\u001b[39m\u001b[39m'\u001b[39m,\n\u001b[0;32m   (...)\u001b[0m\n\u001b[1;32m     <a href='vscode-notebook-cell://wsl%2Bubuntu-20.04/mnt/c/Users/juliu/OneDrive/Bureaublad/MSc/Thesis/DSK_model_MScThesis/parameters/sensitivity/create_table.ipynb#X24sdnNjb2RlLXJlbW90ZQ%3D%3D?line=12'>13</a>\u001b[0m     \u001b[39m\"\u001b[39m\u001b[39m$p_f$\u001b[39m\u001b[39m\"\u001b[39m: \u001b[39m'\u001b[39m\u001b[39m[0.0, 1.0]\u001b[39m\u001b[39m'\u001b[39m\n\u001b[1;32m     <a href='vscode-notebook-cell://wsl%2Bubuntu-20.04/mnt/c/Users/juliu/OneDrive/Bureaublad/MSc/Thesis/DSK_model_MScThesis/parameters/sensitivity/create_table.ipynb#X24sdnNjb2RlLXJlbW90ZQ%3D%3D?line=13'>14</a>\u001b[0m }\n\u001b[1;32m     <a href='vscode-notebook-cell://wsl%2Bubuntu-20.04/mnt/c/Users/juliu/OneDrive/Bureaublad/MSc/Thesis/DSK_model_MScThesis/parameters/sensitivity/create_table.ipynb#X24sdnNjb2RlLXJlbW90ZQ%3D%3D?line=15'>16</a>\u001b[0m \u001b[39m# print(pd.DataFrame(paramranges).to_latex(index=False, escape=False))\u001b[39;00m\n\u001b[0;32m---> <a href='vscode-notebook-cell://wsl%2Bubuntu-20.04/mnt/c/Users/juliu/OneDrive/Bureaublad/MSc/Thesis/DSK_model_MScThesis/parameters/sensitivity/create_table.ipynb#X24sdnNjb2RlLXJlbW90ZQ%3D%3D?line=16'>17</a>\u001b[0m \u001b[39mprint\u001b[39m(pd\u001b[39m.\u001b[39;49mDataFrame(paramranges))\n",
      "File \u001b[0;32m~/.local/lib/python3.8/site-packages/pandas/core/frame.py:614\u001b[0m, in \u001b[0;36mDataFrame.__init__\u001b[0;34m(self, data, index, columns, dtype, copy)\u001b[0m\n\u001b[1;32m    608\u001b[0m     mgr \u001b[39m=\u001b[39m \u001b[39mself\u001b[39m\u001b[39m.\u001b[39m_init_mgr(\n\u001b[1;32m    609\u001b[0m         data, axes\u001b[39m=\u001b[39m{\u001b[39m\"\u001b[39m\u001b[39mindex\u001b[39m\u001b[39m\"\u001b[39m: index, \u001b[39m\"\u001b[39m\u001b[39mcolumns\u001b[39m\u001b[39m\"\u001b[39m: columns}, dtype\u001b[39m=\u001b[39mdtype, copy\u001b[39m=\u001b[39mcopy\n\u001b[1;32m    610\u001b[0m     )\n\u001b[1;32m    612\u001b[0m \u001b[39melif\u001b[39;00m \u001b[39misinstance\u001b[39m(data, \u001b[39mdict\u001b[39m):\n\u001b[1;32m    613\u001b[0m     \u001b[39m# GH#38939 de facto copy defaults to False only in non-dict cases\u001b[39;00m\n\u001b[0;32m--> 614\u001b[0m     mgr \u001b[39m=\u001b[39m dict_to_mgr(data, index, columns, dtype\u001b[39m=\u001b[39;49mdtype, copy\u001b[39m=\u001b[39;49mcopy, typ\u001b[39m=\u001b[39;49mmanager)\n\u001b[1;32m    615\u001b[0m \u001b[39melif\u001b[39;00m \u001b[39misinstance\u001b[39m(data, ma\u001b[39m.\u001b[39mMaskedArray):\n\u001b[1;32m    616\u001b[0m     \u001b[39mimport\u001b[39;00m \u001b[39mnumpy\u001b[39;00m\u001b[39m.\u001b[39;00m\u001b[39mma\u001b[39;00m\u001b[39m.\u001b[39;00m\u001b[39mmrecords\u001b[39;00m \u001b[39mas\u001b[39;00m \u001b[39mmrecords\u001b[39;00m\n",
      "File \u001b[0;32m~/.local/lib/python3.8/site-packages/pandas/core/internals/construction.py:464\u001b[0m, in \u001b[0;36mdict_to_mgr\u001b[0;34m(data, index, columns, dtype, typ, copy)\u001b[0m\n\u001b[1;32m    456\u001b[0m     arrays \u001b[39m=\u001b[39m [\n\u001b[1;32m    457\u001b[0m         x\n\u001b[1;32m    458\u001b[0m         \u001b[39mif\u001b[39;00m \u001b[39mnot\u001b[39;00m \u001b[39mhasattr\u001b[39m(x, \u001b[39m\"\u001b[39m\u001b[39mdtype\u001b[39m\u001b[39m\"\u001b[39m) \u001b[39mor\u001b[39;00m \u001b[39mnot\u001b[39;00m \u001b[39misinstance\u001b[39m(x\u001b[39m.\u001b[39mdtype, ExtensionDtype)\n\u001b[1;32m    459\u001b[0m         \u001b[39melse\u001b[39;00m x\u001b[39m.\u001b[39mcopy()\n\u001b[1;32m    460\u001b[0m         \u001b[39mfor\u001b[39;00m x \u001b[39min\u001b[39;00m arrays\n\u001b[1;32m    461\u001b[0m     ]\n\u001b[1;32m    462\u001b[0m     \u001b[39m# TODO: can we get rid of the dt64tz special case above?\u001b[39;00m\n\u001b[0;32m--> 464\u001b[0m \u001b[39mreturn\u001b[39;00m arrays_to_mgr(\n\u001b[1;32m    465\u001b[0m     arrays, data_names, index, columns, dtype\u001b[39m=\u001b[39;49mdtype, typ\u001b[39m=\u001b[39;49mtyp, consolidate\u001b[39m=\u001b[39;49mcopy\n\u001b[1;32m    466\u001b[0m )\n",
      "File \u001b[0;32m~/.local/lib/python3.8/site-packages/pandas/core/internals/construction.py:119\u001b[0m, in \u001b[0;36marrays_to_mgr\u001b[0;34m(arrays, arr_names, index, columns, dtype, verify_integrity, typ, consolidate)\u001b[0m\n\u001b[1;32m    116\u001b[0m \u001b[39mif\u001b[39;00m verify_integrity:\n\u001b[1;32m    117\u001b[0m     \u001b[39m# figure out the index, if necessary\u001b[39;00m\n\u001b[1;32m    118\u001b[0m     \u001b[39mif\u001b[39;00m index \u001b[39mis\u001b[39;00m \u001b[39mNone\u001b[39;00m:\n\u001b[0;32m--> 119\u001b[0m         index \u001b[39m=\u001b[39m _extract_index(arrays)\n\u001b[1;32m    120\u001b[0m     \u001b[39melse\u001b[39;00m:\n\u001b[1;32m    121\u001b[0m         index \u001b[39m=\u001b[39m ensure_index(index)\n",
      "File \u001b[0;32m~/.local/lib/python3.8/site-packages/pandas/core/internals/construction.py:625\u001b[0m, in \u001b[0;36m_extract_index\u001b[0;34m(data)\u001b[0m\n\u001b[1;32m    622\u001b[0m         raw_lengths\u001b[39m.\u001b[39mappend(\u001b[39mlen\u001b[39m(val))\n\u001b[1;32m    624\u001b[0m \u001b[39mif\u001b[39;00m \u001b[39mnot\u001b[39;00m indexes \u001b[39mand\u001b[39;00m \u001b[39mnot\u001b[39;00m raw_lengths:\n\u001b[0;32m--> 625\u001b[0m     \u001b[39mraise\u001b[39;00m \u001b[39mValueError\u001b[39;00m(\u001b[39m\"\u001b[39m\u001b[39mIf using all scalar values, you must pass an index\u001b[39m\u001b[39m\"\u001b[39m)\n\u001b[1;32m    627\u001b[0m \u001b[39mif\u001b[39;00m have_series:\n\u001b[1;32m    628\u001b[0m     index \u001b[39m=\u001b[39m union_indexes(indexes)\n",
      "\u001b[0;31mValueError\u001b[0m: If using all scalar values, you must pass an index"
     ]
    }
   ],
   "source": [
    "paramranges = {\n",
    "    \"$\\\\alpha_{cp}$\": '[0.4, 1.0]',\n",
    "    \"prog\": '[-1.0, 1.0]',\n",
    "    \"$\\mu_1$\": '[0.0, 0.5]',\n",
    "    \"$\\omega$\": '[0.0, 1.0]',\n",
    "    \"$\\lambda$\": '[0.0, 1.0]',\n",
    "    \"$\\\\bar{\\epsilon}_w$\": '[0.0, 0.1]',\n",
    "    \"$\\epsilon_\\mu$\": '[0.0, 0.1]',\n",
    "    \"$\\kappa_{upper}$\": '[0.0, 0.01]',\n",
    "    \"$\\psi_E$\": '[0., 0.25]',\n",
    "    \"$\\psi_Q$\": '[0., 0.25]',\n",
    "    \"$\\psi_P$\": '[0., 0.25]',\n",
    "    \"$p_f$\": '[0.0, 1.0]'\n",
    "}\n",
    "\n",
    "# print(pd.DataFrame(paramranges).to_latex(index=False, escape=False))\n",
    "print(pd.DataFrame(paramranges))"
   ]
  },
  {
   "cell_type": "code",
   "execution_count": null,
   "metadata": {},
   "outputs": [],
   "source": []
  }
 ],
 "metadata": {
  "kernelspec": {
   "display_name": "Python 3.8.10 64-bit",
   "language": "python",
   "name": "python3"
  },
  "language_info": {
   "codemirror_mode": {
    "name": "ipython",
    "version": 3
   },
   "file_extension": ".py",
   "mimetype": "text/x-python",
   "name": "python",
   "nbconvert_exporter": "python",
   "pygments_lexer": "ipython3",
   "version": "3.8.10"
  },
  "orig_nbformat": 4,
  "vscode": {
   "interpreter": {
    "hash": "31f2aee4e71d21fbe5cf8b01ff0e069b9275f58929596ceb00d14d90e3e16cd6"
   }
  }
 },
 "nbformat": 4,
 "nbformat_minor": 2
}
